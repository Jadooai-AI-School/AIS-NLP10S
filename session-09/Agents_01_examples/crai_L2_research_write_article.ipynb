{
 "cells": [
  {
   "cell_type": "markdown",
   "metadata": {},
   "source": [
    "You can download the `requirements.txt` for this course from the workspace of this lab. `File --> Open...`"
   ]
  },
  {
   "cell_type": "markdown",
   "metadata": {},
   "source": [
    "# L2: Create Agents to Research and Write an Article\n",
    "\n",
    "In this lesson, you will be introduced to the foundational concepts of multi-agent systems and get an overview of the crewAI framework."
   ]
  },
  {
   "cell_type": "markdown",
   "metadata": {},
   "source": [
    "The libraries are already installed in the classroom. If you're running this notebook on your own machine, you can install the following:\n",
    "```Python\n",
    "!uv tool install crewai crewai_tools langchain_community\n",
    "```"
   ]
  },
  {
   "cell_type": "code",
   "execution_count": 1,
   "metadata": {
    "height": 64
   },
   "outputs": [],
   "source": [
    "# Warning control\n",
    "import warnings\n",
    "warnings.filterwarnings('ignore')"
   ]
  },
  {
   "cell_type": "markdown",
   "metadata": {},
   "source": [
    "- Import from the crewAI libray."
   ]
  },
  {
   "cell_type": "code",
   "execution_count": 2,
   "metadata": {
    "height": 30
   },
   "outputs": [
    {
     "data": {
      "text/plain": [
       "True"
      ]
     },
     "execution_count": 2,
     "metadata": {},
     "output_type": "execute_result"
    }
   ],
   "source": [
    "from crewai import Agent, Task, Crew\n",
    "from crewai import LLM\n",
    "from dotenv import load_dotenv\n",
    "import os\n",
    "\n",
    "load_dotenv()  # this will load env keys from .env file"
   ]
  },
  {
   "cell_type": "markdown",
   "metadata": {},
   "source": [
    "- As a LLM for your agents, you'll be using OpenAI's `gpt-3.5-turbo`.\n",
    "\n",
    "**Optional Note:** crewAI also allow other popular models to be used as a LLM for your Agents. You can see its documentation at https://docs.crewai.com/concepts/llms"
   ]
  },
  {
   "cell_type": "code",
   "execution_count": 3,
   "metadata": {},
   "outputs": [],
   "source": [
    "api_key = os.getenv('GROQ_API_KEY')\n",
    "llm = LLM(\n",
    "    model=\"groq/gemma2-9b-it\",\n",
    "    temperature = 0.7\n",
    ")"
   ]
  },
  {
   "cell_type": "markdown",
   "metadata": {},
   "source": [
    "## Creating Agents\n",
    "\n",
    "- Define your Agents, and provide them a `role`, `goal` and `backstory`.\n",
    "- It has been seen that LLMs perform better when they are role playing."
   ]
  },
  {
   "cell_type": "markdown",
   "metadata": {},
   "source": [
    "### Agent: Planner\n",
    "\n",
    "**Note**: The benefit of using _multiple strings_ :\n",
    "```Python\n",
    "varname = \"line 1 of text\"\n",
    "          \"line 2 of text\"\n",
    "```\n",
    "\n",
    "versus the _triple quote docstring_:\n",
    "```Python\n",
    "varname = \"\"\"line 1 of text\n",
    "             line 2 of text\n",
    "          \"\"\"\n",
    "```\n",
    "is that it can avoid adding those whitespaces and newline characters, making it better formatted to be passed to the LLM."
   ]
  },
  {
   "cell_type": "code",
   "execution_count": 4,
   "metadata": {
    "height": 248
   },
   "outputs": [],
   "source": [
    "planner = Agent(\n",
    "    role=\"Content Planner\",\n",
    "    goal=\"Plan engaging and factually accurate content on {topic}\",\n",
    "    backstory=\"You're working on planning a blog article \"\n",
    "              \"about the topic: {topic}.\"\n",
    "              \"You collect information that helps the \"\n",
    "              \"audience learn something \"\n",
    "              \"and make informed decisions. \"\n",
    "              \"Your work is the basis for \"\n",
    "              \"the Content Writer to write an article on this topic.\",\n",
    "    allow_delegation=False,\n",
    "\tverbose=True,\n",
    "    llm=llm\n",
    ")"
   ]
  },
  {
   "cell_type": "markdown",
   "metadata": {},
   "source": [
    "### Agent: Writer"
   ]
  },
  {
   "cell_type": "code",
   "execution_count": 5,
   "metadata": {
    "height": 384
   },
   "outputs": [],
   "source": [
    "writer = Agent(\n",
    "    role=\"Content Writer\",\n",
    "    goal=\"Write insightful and factually accurate \"\n",
    "         \"opinion piece about the topic: {topic}\",\n",
    "    backstory=\"You're working on a writing \"\n",
    "              \"a new opinion piece about the topic: {topic}. \"\n",
    "              \"You base your writing on the work of \"\n",
    "              \"the Content Planner, who provides an outline \"\n",
    "              \"and relevant context about the topic. \"\n",
    "              \"You follow the main objectives and \"\n",
    "              \"direction of the outline, \"\n",
    "              \"as provide by the Content Planner. \"\n",
    "              \"You also provide objective and impartial insights \"\n",
    "              \"and back them up with information \"\n",
    "              \"provide by the Content Planner. \"\n",
    "              \"You acknowledge in your opinion piece \"\n",
    "              \"when your statements are opinions \"\n",
    "              \"as opposed to objective statements.\",\n",
    "    allow_delegation=False,\n",
    "    verbose=True,\n",
    "    llm=llm\n",
    ")"
   ]
  },
  {
   "cell_type": "markdown",
   "metadata": {},
   "source": [
    "### Agent: Editor"
   ]
  },
  {
   "cell_type": "code",
   "execution_count": 6,
   "metadata": {
    "height": 282
   },
   "outputs": [],
   "source": [
    "editor = Agent(\n",
    "    role=\"Editor\",\n",
    "    goal=\"Edit a given blog post to align with \"\n",
    "         \"the writing style of the organization. \",\n",
    "    backstory=\"You are an editor who receives a blog post \"\n",
    "              \"from the 'Content Writer'. \"\n",
    "              \"Your goal is to review the blog post \"\n",
    "              \"to ensure that it follows journalistic best practices,\"\n",
    "              \"provides balanced viewpoints \"\n",
    "              \"when providing opinions or assertions, \"\n",
    "              \"and also avoids major controversial topics \"\n",
    "              \"or opinions when possible.\",\n",
    "    allow_delegation=False,\n",
    "    verbose=True,\n",
    "    llm=llm\n",
    ")"
   ]
  },
  {
   "cell_type": "markdown",
   "metadata": {},
   "source": [
    "## Creating Tasks\n",
    "\n",
    "- Define your Tasks, and provide them a `description`, `expected_output` and `agent`."
   ]
  },
  {
   "cell_type": "markdown",
   "metadata": {},
   "source": [
    "### Task: Plan"
   ]
  },
  {
   "cell_type": "code",
   "execution_count": 7,
   "metadata": {
    "height": 282
   },
   "outputs": [],
   "source": [
    "plan = Task(\n",
    "    description=(\n",
    "        \"1. Prioritize the latest trends, key players, \"\n",
    "            \"and noteworthy news on {topic}.\\n\"\n",
    "        \"2. Identify the target audience, considering \"\n",
    "            \"their interests and pain points.\\n\"\n",
    "        \"3. Develop a detailed content outline including \"\n",
    "            \"an introduction, key points, and a call to action.\\n\"\n",
    "        \"4. Include SEO keywords and relevant data or sources.\"\n",
    "    ),\n",
    "    expected_output=\"A comprehensive content plan document \"\n",
    "        \"with an outline, audience analysis, \"\n",
    "        \"SEO keywords, and resources.\",\n",
    "    agent=planner,\n",
    ")"
   ]
  },
  {
   "cell_type": "markdown",
   "metadata": {},
   "source": [
    "### Task: Write"
   ]
  },
  {
   "cell_type": "code",
   "execution_count": 8,
   "metadata": {
    "height": 333
   },
   "outputs": [],
   "source": [
    "write = Task(\n",
    "    description=(\n",
    "        \"1. Use the content plan to craft a compelling \"\n",
    "            \"blog post on {topic}.\\n\"\n",
    "        \"2. Incorporate SEO keywords naturally.\\n\"\n",
    "\t\t\"3. Sections/Subtitles are properly named \"\n",
    "            \"in an engaging manner.\\n\"\n",
    "        \"4. Ensure the post is structured with an \"\n",
    "            \"engaging introduction, insightful body, \"\n",
    "            \"and a summarizing conclusion.\\n\"\n",
    "        \"5. Proofread for grammatical errors and \"\n",
    "            \"alignment with the brand's voice.\\n\"\n",
    "    ),\n",
    "    expected_output=\"A well-written blog post \"\n",
    "        \"in markdown format, ready for publication, \"\n",
    "        \"each section should have 2 or 3 paragraphs.\",\n",
    "    agent=writer,\n",
    ")"
   ]
  },
  {
   "cell_type": "markdown",
   "metadata": {},
   "source": [
    "### Task: Edit"
   ]
  },
  {
   "cell_type": "code",
   "execution_count": 9,
   "metadata": {
    "height": 180
   },
   "outputs": [],
   "source": [
    "edit = Task(\n",
    "    description=(\"Proofread the written blog post for \"\n",
    "                 \"grammatical errors and \"\n",
    "                 \"alignment with the brand's voice.\"),\n",
    "    expected_output=\"A well-written blog post in markdown format, \"\n",
    "                    \"ready for publication, \"\n",
    "                    \"each section should have 2 or 3 paragraphs.\",\n",
    "    agent=editor\n",
    ")"
   ]
  },
  {
   "cell_type": "markdown",
   "metadata": {},
   "source": [
    "## Creating the Crew\n",
    "\n",
    "- Create your crew of Agents\n",
    "- Pass the tasks to be performed by those agents.\n",
    "    - **Note**: *For this simple example*, the tasks will be performed sequentially (i.e they are dependent on each other), so the _order_ of the task in the list _matters_.\n",
    "- `verbose=2` allows you to see all the logs of the execution. "
   ]
  },
  {
   "cell_type": "code",
   "execution_count": 10,
   "metadata": {
    "height": 97
   },
   "outputs": [],
   "source": [
    "crew = Crew(\n",
    "    agents=[planner, writer, editor],\n",
    "    tasks=[plan, write, edit],\n",
    "    verbose=False\n",
    ")"
   ]
  },
  {
   "cell_type": "markdown",
   "metadata": {},
   "source": [
    "## Running the Crew"
   ]
  },
  {
   "cell_type": "markdown",
   "metadata": {},
   "source": [
    "**Note**: LLMs can provide different outputs for they same input, so what you get might be different than what you see in the video."
   ]
  },
  {
   "cell_type": "code",
   "execution_count": 11,
   "metadata": {
    "height": 44
   },
   "outputs": [
    {
     "name": "stdout",
     "output_type": "stream",
     "text": [
      "\u001b[1m\u001b[95m# Agent:\u001b[00m \u001b[1m\u001b[92mContent Planner\u001b[00m\n",
      "\u001b[95m## Task:\u001b[00m \u001b[92m1. Prioritize the latest trends, key players, and noteworthy news on Artificial Intelligence.\n",
      "2. Identify the target audience, considering their interests and pain points.\n",
      "3. Develop a detailed content outline including an introduction, key points, and a call to action.\n",
      "4. Include SEO keywords and relevant data or sources.\u001b[00m\n",
      "\n",
      "\n",
      "\u001b[1m\u001b[95m# Agent:\u001b[00m \u001b[1m\u001b[92mContent Planner\u001b[00m\n",
      "\u001b[95m## Final Answer:\u001b[00m \u001b[92m\n",
      "## Content Plan: Artificial Intelligence \n",
      "\n",
      "**1. Target Audience:**\n",
      "\n",
      "* **Primary:**  Tech enthusiasts, business professionals, students interested in STEM fields.\n",
      "* **Secondary:**  Individuals curious about the impact of AI on everyday life. \n",
      "\n",
      "**Pain Points:**\n",
      "\n",
      "* **Lack of understanding:** Many people are confused about what AI actually is and how it works.\n",
      "* **Fear of the unknown:** There are concerns about job displacement and the potential misuse of AI.\n",
      "* **Difficulty keeping up with the rapid advancements:** The field of AI is constantly evolving, making it challenging to stay informed.\n",
      "\n",
      "**Interests:**\n",
      "\n",
      "* **Future of technology:**  Understanding how AI will shape the world.\n",
      "* **Practical applications:**  Learning about real-world uses of AI in different industries.\n",
      "* **Ethical considerations:**  Exploring the potential benefits and risks of AI.\n",
      "\n",
      "**2. Latest Trends, Key Players, & News:**\n",
      "\n",
      "* **Generative AI:**  Models like ChatGPT and DALL-E 2 are creating realistic text, images, and code,  revolutionizing content creation and design.\n",
      "* **AI Ethics:** Growing focus on responsible development and deployment of AI, addressing bias, fairness, and transparency concerns.\n",
      "* **AI in Healthcare:**  AI-powered diagnostics, drug discovery, and personalized medicine are transforming healthcare.\n",
      "* **Key Players:** OpenAI, Google DeepMind, Microsoft, Meta, IBM, Amazon Web Services.\n",
      "\n",
      "**Notable News:**\n",
      "\n",
      "*  OpenAI's ChatGPT surpasses 100 million users in record time.\n",
      "*  Google unveils its own AI chatbot, Bard, to compete with ChatGPT.\n",
      "*  AI-generated art sparks debate about copyright and creativity.\n",
      "\n",
      "**3. Content Outline:**\n",
      "\n",
      "**Title:**  Demystifying Artificial Intelligence: Trends, Applications, and the Future\n",
      "\n",
      "**Introduction:**\n",
      "\n",
      "*  Hook the reader with a compelling statistic or example of AI in action.\n",
      "*  Define Artificial Intelligence in clear, concise terms.\n",
      "*  Outline the key topics to be covered in the article.\n",
      "\n",
      "**Key Points:**\n",
      "\n",
      "*  **What is AI?** Explain different types of AI (e.g., machine learning, deep learning) and how they work.\n",
      "*  **Latest Trends:**  Discuss generative AI, AI ethics, and other emerging trends.\n",
      "*  **Real-World Applications:** Showcase practical uses of AI in various industries (healthcare, finance, transportation, etc.).\n",
      "*  **Impact on the Future:** Explore the potential benefits and risks of widespread AI adoption.\n",
      "\n",
      "**Call to Action:**\n",
      "\n",
      "*  Encourage readers to learn more about AI through online resources, courses, or events.\n",
      "*  Prompt them to consider the ethical implications of AI and engage in discussions about its future.\n",
      "\n",
      "**SEO Keywords:**\n",
      "\n",
      "* Artificial intelligence, AI, machine learning, deep learning, generative AI, AI ethics, AI applications, future of AI, AI trends, ChatGPT, DALL-E 2.\n",
      "\n",
      "**Data/Sources:**\n",
      "\n",
      "*  Include statistics, research findings, and expert quotes to support your claims. \n",
      "*  Cite reputable sources such as academic journals, industry reports, and government publications.\n",
      "*  Link to relevant websites and resources for further exploration.\u001b[00m\n",
      "\n",
      "\n",
      "\u001b[1m\u001b[95m# Agent:\u001b[00m \u001b[1m\u001b[92mContent Writer\u001b[00m\n",
      "\u001b[95m## Task:\u001b[00m \u001b[92m1. Use the content plan to craft a compelling blog post on Artificial Intelligence.\n",
      "2. Incorporate SEO keywords naturally.\n",
      "3. Sections/Subtitles are properly named in an engaging manner.\n",
      "4. Ensure the post is structured with an engaging introduction, insightful body, and a summarizing conclusion.\n",
      "5. Proofread for grammatical errors and alignment with the brand's voice.\n",
      "\u001b[00m\n",
      "\n",
      "\n",
      "\u001b[1m\u001b[95m# Agent:\u001b[00m \u001b[1m\u001b[92mContent Writer\u001b[00m\n",
      "\u001b[95m## Final Answer:\u001b[00m \u001b[92m\n",
      "## Demystifying Artificial Intelligence: Trends, Applications, and the Future\n",
      "\n",
      "Artificial intelligence (AI) is rapidly transforming our world, from the way we work and learn to how we interact with technology.  It's no longer a futuristic concept confined to science fiction; AI is here, and it's impacting our lives in profound ways. But what exactly is AI, and how is it shaping our future?\n",
      "\n",
      "**What is AI, Anyway?**\n",
      "\n",
      "At its core, artificial intelligence refers to the ability of machines to perform tasks that typically require human intelligence, such as learning, problem-solving, and decision-making.  This can be achieved through various techniques, including machine learning, where algorithms learn from data without explicit programming, and deep learning, which uses artificial neural networks to analyze vast amounts of information. \n",
      "\n",
      "Think of it this way: imagine teaching a computer to identify a cat in a picture.  Instead of programming it with specific rules about cat features, you could show it thousands of images labeled \"cat.\" Through machine learning, the computer would identify patterns and features common to cats, eventually learning to recognize them on its own.\n",
      "\n",
      " **The AI Revolution is Here: Emerging Trends**\n",
      "\n",
      "The field of AI is constantly evolving, with new breakthroughs and applications emerging at a dizzying pace.  One of the most exciting trends is **generative AI**, which enables machines to create new content, such as text, images, and even code.   Models like ChatGPT and DALL-E 2 have captured the imagination of the world, showcasing the incredible potential of AI to revolutionize creative industries.\n",
      "\n",
      "Alongside this progress comes a growing emphasis on **AI ethics**.  As AI systems become more sophisticated, it's crucial to ensure they are developed and deployed responsibly.  This involves addressing concerns about bias, fairness, transparency, and accountability, ensuring that AI benefits all of humanity.\n",
      "\n",
      "**AI: Transforming Industries**\n",
      "\n",
      "The applications of AI are vast and continue to expand.  \n",
      "\n",
      "* **Healthcare:** AI is being used to diagnose diseases, personalize treatments, and accelerate drug discovery. \n",
      "* **Finance:** AI-powered algorithms are used for fraud detection, risk assessment, and personalized financial advice. \n",
      "* **Transportation:** Self-driving cars and autonomous delivery robots are poised to revolutionize the way we move goods and people. \n",
      "\n",
      "These are just a few examples of how AI is transforming industries and shaping our future.\n",
      "\n",
      "**The Future of AI: A World of Possibilities**\n",
      "\n",
      "The potential benefits of AI are immense, but it's essential to approach its development and deployment with careful consideration. As AI becomes more integrated into our lives, we must address the ethical challenges and ensure that it is used for the betterment of society.  The future of AI is not predetermined; it is up to us to shape it in a way that is beneficial and sustainable for all.\u001b[00m\n",
      "\n",
      "\n",
      "\u001b[1m\u001b[95m# Agent:\u001b[00m \u001b[1m\u001b[92mEditor\u001b[00m\n",
      "\u001b[95m## Task:\u001b[00m \u001b[92mProofread the written blog post for grammatical errors and alignment with the brand's voice.\u001b[00m\n",
      "\n",
      "\n",
      "\u001b[1m\u001b[95m# Agent:\u001b[00m \u001b[1m\u001b[92mEditor\u001b[00m\n",
      "\u001b[95m## Final Answer:\u001b[00m \u001b[92m\n",
      "## Demystifying Artificial Intelligence: Trends, Applications, and the Future\n",
      "\n",
      "Artificial intelligence (AI) is rapidly changing the world, influencing how we work, learn, and interact with technology. It's no longer a futuristic concept limited to science fiction; AI is here, making a tangible impact on our lives. But what exactly is AI, and how is it shaping our future?\n",
      "\n",
      "**Understanding AI:  More Than Just a Buzzword**\n",
      "\n",
      "At its core, artificial intelligence refers to the ability of machines to perform tasks that typically require human intelligence, such as learning, problem-solving, and decision-making.  Imagine teaching a computer to identify a cat in a picture.  Instead of programming it with specific rules about cat features, you could show it thousands of images labeled \"cat.\" Through machine learning, the computer would identify patterns and features common to cats, eventually learning to recognize them independently.\n",
      "\n",
      "There are different types of AI, including machine learning and deep learning. Machine learning involves algorithms that learn from data without explicit programming. Deep learning, a subset of machine learning, uses artificial neural networks inspired by the human brain to analyze vast amounts of information.\n",
      "\n",
      "**The AI Landscape:  Where Innovation is Happening**\n",
      "\n",
      "The field of AI is constantly evolving, with new breakthroughs and applications emerging at an impressive pace. One of the most exciting trends is **generative AI**, which empowers machines to create new content, such as text, images, and even code. Models like ChatGPT and DALL-E 2 have captured global attention, showcasing the transformative potential of AI in creative industries.\n",
      "\n",
      "Alongside this progress, there's a growing emphasis on **AI ethics**. As AI systems become more sophisticated, it's crucial to ensure they are developed and deployed responsibly. This involves addressing concerns about bias, fairness, transparency, and accountability, ensuring that AI benefits all of humanity.\n",
      "\n",
      "**AI in Action:  Real-World Applications**\n",
      "\n",
      "The applications of AI are vast and continue to expand across various industries:\n",
      "\n",
      "* **Healthcare:** AI is revolutionizing healthcare by aiding in disease diagnosis, personalizing treatments, and accelerating drug discovery.\n",
      "\n",
      "* **Finance:** AI-powered algorithms are used for fraud detection, risk assessment, and providing personalized financial advice.\n",
      "\n",
      "* **Transportation:** Self-driving cars and autonomous delivery robots are poised to reshape how we move goods and people.\n",
      "\n",
      "These are just a few examples of how AI is transforming industries and shaping our future.\n",
      "\n",
      "**The Future of AI: A World Shaped by Possibilities**\n",
      "\n",
      "The potential benefits of AI are immense, but it's essential to approach its development and deployment thoughtfully. As AI becomes more integrated into our lives, we must address ethical challenges and ensure it is used for the betterment of society. The future of AI is not predetermined; it is up to us to shape it in a way that is beneficial and sustainable for all.\u001b[00m\n",
      "\n",
      "\n"
     ]
    }
   ],
   "source": [
    "result = crew.kickoff(inputs={\"topic\": \"Artificial Intelligence\"})"
   ]
  },
  {
   "cell_type": "markdown",
   "metadata": {},
   "source": [
    "- Display the results of your execution as markdown in the notebook."
   ]
  },
  {
   "cell_type": "code",
   "execution_count": 12,
   "metadata": {
    "height": 46
   },
   "outputs": [
    {
     "data": {
      "text/markdown": [
       "## Demystifying Artificial Intelligence: Trends, Applications, and the Future\n",
       "\n",
       "Artificial intelligence (AI) is rapidly changing the world, influencing how we work, learn, and interact with technology. It's no longer a futuristic concept limited to science fiction; AI is here, making a tangible impact on our lives. But what exactly is AI, and how is it shaping our future?\n",
       "\n",
       "**Understanding AI:  More Than Just a Buzzword**\n",
       "\n",
       "At its core, artificial intelligence refers to the ability of machines to perform tasks that typically require human intelligence, such as learning, problem-solving, and decision-making.  Imagine teaching a computer to identify a cat in a picture.  Instead of programming it with specific rules about cat features, you could show it thousands of images labeled \"cat.\" Through machine learning, the computer would identify patterns and features common to cats, eventually learning to recognize them independently.\n",
       "\n",
       "There are different types of AI, including machine learning and deep learning. Machine learning involves algorithms that learn from data without explicit programming. Deep learning, a subset of machine learning, uses artificial neural networks inspired by the human brain to analyze vast amounts of information.\n",
       "\n",
       "**The AI Landscape:  Where Innovation is Happening**\n",
       "\n",
       "The field of AI is constantly evolving, with new breakthroughs and applications emerging at an impressive pace. One of the most exciting trends is **generative AI**, which empowers machines to create new content, such as text, images, and even code. Models like ChatGPT and DALL-E 2 have captured global attention, showcasing the transformative potential of AI in creative industries.\n",
       "\n",
       "Alongside this progress, there's a growing emphasis on **AI ethics**. As AI systems become more sophisticated, it's crucial to ensure they are developed and deployed responsibly. This involves addressing concerns about bias, fairness, transparency, and accountability, ensuring that AI benefits all of humanity.\n",
       "\n",
       "**AI in Action:  Real-World Applications**\n",
       "\n",
       "The applications of AI are vast and continue to expand across various industries:\n",
       "\n",
       "* **Healthcare:** AI is revolutionizing healthcare by aiding in disease diagnosis, personalizing treatments, and accelerating drug discovery.\n",
       "\n",
       "* **Finance:** AI-powered algorithms are used for fraud detection, risk assessment, and providing personalized financial advice.\n",
       "\n",
       "* **Transportation:** Self-driving cars and autonomous delivery robots are poised to reshape how we move goods and people.\n",
       "\n",
       "These are just a few examples of how AI is transforming industries and shaping our future.\n",
       "\n",
       "**The Future of AI: A World Shaped by Possibilities**\n",
       "\n",
       "The potential benefits of AI are immense, but it's essential to approach its development and deployment thoughtfully. As AI becomes more integrated into our lives, we must address ethical challenges and ensure it is used for the betterment of society. The future of AI is not predetermined; it is up to us to shape it in a way that is beneficial and sustainable for all."
      ],
      "text/plain": [
       "<IPython.core.display.Markdown object>"
      ]
     },
     "execution_count": 12,
     "metadata": {},
     "output_type": "execute_result"
    }
   ],
   "source": [
    "from IPython.display import Markdown\n",
    "Markdown(result.raw)"
   ]
  },
  {
   "cell_type": "markdown",
   "metadata": {},
   "source": [
    "## Try it Yourself\n",
    "\n",
    "- Pass in a topic of your choice and see what the agents come up with!"
   ]
  },
  {
   "cell_type": "code",
   "execution_count": 13,
   "metadata": {
    "height": 46
   },
   "outputs": [
    {
     "name": "stdout",
     "output_type": "stream",
     "text": [
      "\u001b[1m\u001b[95m# Agent:\u001b[00m \u001b[1m\u001b[92mContent Planner\u001b[00m\n",
      "\u001b[95m## Task:\u001b[00m \u001b[92m1. Prioritize the latest trends, key players, and noteworthy news on Agenic AI Trend..\n",
      "2. Identify the target audience, considering their interests and pain points.\n",
      "3. Develop a detailed content outline including an introduction, key points, and a call to action.\n",
      "4. Include SEO keywords and relevant data or sources.\u001b[00m\n",
      "\n",
      "\n",
      "\u001b[1m\u001b[95m# Agent:\u001b[00m \u001b[1m\u001b[92mContent Planner\u001b[00m\n",
      "\u001b[95m## Final Answer:\u001b[00m \u001b[92m\n",
      "## Agenic AI Trend: A Comprehensive Content Plan\n",
      "\n",
      "**1.  Prioritized Trends, Key Players, and News:**\n",
      "\n",
      "*   **Trend:**  The rapid development and integration of AI agents capable of autonomous learning, problem-solving, and interaction.\n",
      "\n",
      "*   **Key Players:** \n",
      "    *   **OpenAI:**  Creators of ChatGPT, demonstrating the power of generative AI agents.\n",
      "    *   **Google DeepMind:**  Developing advanced AI agents like AlphaGo and AlphaFold, showcasing capabilities in game playing and protein folding.\n",
      "    *   **Anthropic:**  Focuses on building ethical and safe AI agents, emphasizing responsible development.\n",
      "    *   **Cohere:**  Providing tools and APIs for developers to integrate AI agents into their applications.\n",
      "    \n",
      "*   **News:** \n",
      "    *   Increasing use of AI agents in customer service, education, and research.\n",
      "    *   Growing concerns about the ethical implications of autonomous AI.\n",
      "    *   Debate surrounding the potential impact of AI agents on the job market.\n",
      "\n",
      "**2. Target Audience:**\n",
      "\n",
      "*   **Tech enthusiasts:** Individuals interested in the latest advancements in AI and its applications.\n",
      "*   **Developers:** Professionals seeking to integrate AI agents into their software solutions.\n",
      "*   **Business leaders:**  Executives exploring the potential of AI agents to improve efficiency and productivity.\n",
      "*   **Policymakers and researchers:**  Individuals concerned with the ethical and societal implications of AI.\n",
      "\n",
      "**Pain Points:**\n",
      "\n",
      "*   **Understanding the complexities of Agenic AI:**  The technical aspects can be challenging for non-experts.\n",
      "*   **Identifying the right applications for AI agents:**  Determining the best use cases for different industries and sectors.\n",
      "*   **Addressing ethical concerns:**  Navigating the potential biases and risks associated with autonomous AI.\n",
      "\n",
      "\n",
      "**3. Content Outline:**\n",
      "\n",
      "**Title:**  Agenic AI: The Rise of Intelligent Agents and Their Impact on the Future\n",
      "\n",
      "**Introduction:**\n",
      "\n",
      "*   Define Agenic AI and its key characteristics (autonomous, learning, problem-solving).\n",
      "*   Highlight the recent surge in interest and development of AI agents.\n",
      "*   Outline the article's scope and objectives: exploring trends, key players, applications, and ethical considerations.\n",
      "\n",
      "**Key Points:**\n",
      "\n",
      "*   **The Evolution of Agenic AI:**\n",
      "    *  Trace the history of AI development, highlighting milestones and breakthroughs.\n",
      "    *  Explain the shift towards more autonomous and adaptable agents.\n",
      "*   **Leading Players and Innovations:**\n",
      "    *   Showcase prominent companies and their contributions to Agenic AI.\n",
      "    *   Discuss specific AI agent technologies and their capabilities.\n",
      "*   **Transformative Applications:**\n",
      "    *   Explore diverse use cases across industries:\n",
      "        *   Customer service: Chatbots and virtual assistants.\n",
      "        *   Education: Personalized learning experiences and intelligent tutoring systems.\n",
      "        *   Healthcare:  Diagnosis assistance, drug discovery, and patient monitoring.\n",
      "        *   Research:  Data analysis, scientific discovery, and simulations.\n",
      "*   **Ethical Considerations and Challenges:**\n",
      "    *   Address concerns about bias, fairness, and transparency in AI agents.\n",
      "    *   Discuss the potential impact on jobs and the need for responsible development.\n",
      "    *   Explore regulatory frameworks and guidelines for ethical AI.\n",
      "\n",
      "**Call to Action:**\n",
      "\n",
      "*   Encourage readers to stay informed about the evolving landscape of Agenic AI.\n",
      "*   Suggest resources for further exploration and learning.\n",
      "*   Prompt readers to share their thoughts and perspectives on the potential of AI agents.\n",
      "\n",
      "**4. SEO Keywords:**\n",
      "\n",
      "*   Agenic AI\n",
      "*   AI agents\n",
      "*   Autonomous AI\n",
      "*   Generative AI\n",
      "*   AI applications\n",
      "*   Ethical AI\n",
      "*   AI trends\n",
      "*   Future of AI\n",
      "*   OpenAI\n",
      "*   Google DeepMind\n",
      "*   Anthropic\n",
      "*   Cohere\n",
      "\n",
      "**5. Resources:**\n",
      "\n",
      "*   **OpenAI:** https://openai.com/\n",
      "*   **Google DeepMind:** https://deepmind.com/\n",
      "*   **Anthropic:** https://www.anthropic.com/\n",
      "*   **Cohere:** https://cohere.ai/\n",
      "*   **MIT Technology Review: The Age of AI:** https://www.technologyreview.com/topic/artificial-intelligence/\n",
      "*   **Stanford Encyclopedia of Philosophy: Artificial Intelligence:** https://plato.stanford.edu/entries/artificial-intelligence/\u001b[00m\n",
      "\n",
      "\n",
      "\u001b[1m\u001b[95m# Agent:\u001b[00m \u001b[1m\u001b[92mContent Writer\u001b[00m\n",
      "\u001b[95m## Task:\u001b[00m \u001b[92m1. Use the content plan to craft a compelling blog post on Agenic AI Trend..\n",
      "2. Incorporate SEO keywords naturally.\n",
      "3. Sections/Subtitles are properly named in an engaging manner.\n",
      "4. Ensure the post is structured with an engaging introduction, insightful body, and a summarizing conclusion.\n",
      "5. Proofread for grammatical errors and alignment with the brand's voice.\n",
      "\u001b[00m\n",
      "\n",
      "\n",
      "\u001b[1m\u001b[95m# Agent:\u001b[00m \u001b[1m\u001b[92mContent Writer\u001b[00m\n",
      "\u001b[95m## Final Answer:\u001b[00m \u001b[92m\n",
      "Thought: I now can give a great answer\n",
      "\n",
      "## Agenic AI: The Rise of Intelligent Agents and Their Impact on the Future\n",
      "\n",
      "The world of technology is constantly evolving, and few advancements are as transformative as the emergence of **Agenic AI**.  This refers to the development of artificial intelligence agents capable of independent learning, problem-solving, and interaction with their environment. \n",
      "\n",
      "Imagine AI that can not only process information but also learn from it, adapt to new situations, and even make decisions without explicit human intervention. This is the promise of Agenic AI, and it's rapidly becoming a reality. \n",
      "\n",
      "This shift towards more autonomous and adaptable AI is driven by significant breakthroughs in machine learning, natural language processing, and computer vision.  \n",
      "\n",
      "### The Evolution of Agenic AI\n",
      "\n",
      "The journey towards Agenic AI has been marked by milestones in artificial intelligence research. From early rule-based systems to the development of expert systems, AI has steadily progressed. The advent of deep learning, a powerful subset of machine learning, has been a game-changer. Deep learning algorithms, inspired by the structure of the human brain, can learn complex patterns from vast amounts of data, enabling AI agents to perform tasks like image recognition, speech synthesis, and natural language understanding with unprecedented accuracy.\n",
      "\n",
      "This evolution has led to the development of increasingly sophisticated AI agents. These agents are no longer confined to specific tasks; they can learn and adapt to a wider range of situations. \n",
      "\n",
      "### Leading Players and Innovations\n",
      "\n",
      "The field of Agenic AI is attracting significant attention from both established tech giants and innovative startups.\n",
      "\n",
      "* **OpenAI**, the creators of the groundbreaking ChatGPT, are at the forefront of developing generative AI agents capable of creating human-quality text, code, and even art. \n",
      "* **Google DeepMind**, renowned for its breakthroughs in game playing with AlphaGo and protein folding with AlphaFold, is pushing the boundaries of AI capabilities.\n",
      "* **Anthropic**, a company founded by former OpenAI researchers, focuses on building ethical and safe AI agents, emphasizing responsible development practices. \n",
      "* **Cohere**, a Canadian AI company, provides tools and APIs for developers to integrate AI agents into their applications, democratizing access to this transformative technology.\n",
      "\n",
      "These are just a few examples of the companies leading the charge in Agenic AI. Their innovations are constantly shaping the landscape of this rapidly evolving field.\n",
      "\n",
      "### Transformative Applications\n",
      "\n",
      "The potential applications of Agenic AI are vast and far-reaching, spanning across diverse industries:\n",
      "\n",
      "* **Customer Service:** AI-powered chatbots and virtual assistants are already transforming customer service, providing quick and efficient solutions to common queries, freeing up human agents to handle more complex issues.\n",
      "\n",
      "* **Education:** Personalized learning experiences powered by AI agents can adapt to individual student needs, providing tailored instruction and support. Intelligent tutoring systems can offer real-time feedback and guidance, helping students learn more effectively.\n",
      "* **Healthcare:** AI agents can assist in diagnosis, analyze medical images, and even contribute to drug discovery. They can also monitor patient health remotely, providing timely alerts and interventions.\n",
      "* **Research:** AI agents can analyze massive datasets, identify patterns, and generate hypotheses, accelerating scientific discovery in fields like climate science, genomics, and materials science.\n",
      "\n",
      "These are just a few examples of how Agenic AI is poised to revolutionize various aspects of our lives.\n",
      "\n",
      "### Ethical Considerations and Challenges\n",
      "\n",
      "While the potential of Agenic AI is immense, it also raises important ethical considerations:\n",
      "\n",
      "* **Bias and Fairness:** AI agents learn from the data they are trained on, and if that data reflects existing societal biases, the AI can perpetuate those biases. It's crucial to ensure that AI agents are trained on diverse and representative data to mitigate bias.\n",
      "\n",
      "* **Transparency and Explainability:** Understanding how AI agents make decisions is essential for building trust and accountability. Research into making AI models more transparent and explainable is crucial.\n",
      "* **Job Displacement:** As AI agents become more capable, there are concerns about potential job displacement. It's important to consider the societal impact of AI and develop strategies for reskilling and upskilling the workforce.\n",
      "\n",
      "These are complex challenges that require careful consideration and collaboration between researchers, policymakers, and industry leaders.\n",
      "\n",
      "**A Future Shaped by Intelligent Agents**\n",
      "\n",
      "Agenic AI is undoubtedly one of the most transformative technologies of our time. Its ability to learn, adapt, and solve problems autonomously has the potential to revolutionize countless industries and aspects of our lives. As this technology continues to evolve, it is essential to navigate the ethical challenges and ensure that AI benefits all of humanity. \n",
      "\n",
      "\n",
      "\u001b[00m\n",
      "\n",
      "\n",
      "\u001b[1m\u001b[95m# Agent:\u001b[00m \u001b[1m\u001b[92mEditor\u001b[00m\n",
      "\u001b[95m## Task:\u001b[00m \u001b[92mProofread the written blog post for grammatical errors and alignment with the brand's voice.\u001b[00m\n",
      "\n",
      "\n",
      "\u001b[1m\u001b[95m# Agent:\u001b[00m \u001b[1m\u001b[92mEditor\u001b[00m\n",
      "\u001b[95m## Final Answer:\u001b[00m \u001b[92m\n",
      "Thought: I now can give a great answer\n",
      "\n",
      "## Agenic AI:  Intelligent Agents Shaping Our Future \n",
      "\n",
      "The world of technology is in constant flux, and few advancements are as profound as the rise of **Agenic AI**. This refers to the development of artificial intelligence agents capable of independent learning, problem-solving, and interaction with their environment. Imagine AI that can not only process information but also learn from it, adapt to new situations, and even make decisions without direct human intervention. This is the promise of Agenic AI, and it's rapidly becoming a reality. \n",
      "\n",
      "This shift towards more autonomous and adaptable AI is driven by significant breakthroughs in machine learning, natural language processing, and computer vision. These advancements have enabled AI agents to perform increasingly complex tasks, blurring the lines between human and machine intelligence.\n",
      "\n",
      "### A Brief History: From Rules to Revolution \n",
      "\n",
      "The journey towards Agenic AI has been marked by milestones in artificial intelligence research.  Early AI systems relied on pre-programmed rules, limiting their ability to adapt to new situations. The development of expert systems brought a degree of sophistication, allowing AI to mimic the decision-making of human experts in specific domains. However, it was the advent of deep learning, a powerful subset of machine learning, that truly revolutionized AI. Deep learning algorithms, inspired by the structure of the human brain, can learn complex patterns from vast amounts of data, enabling AI agents to perform tasks like image recognition, speech synthesis, and natural language understanding with unprecedented accuracy.\n",
      "\n",
      "###  Key Players Shaping the Future\n",
      "\n",
      "The field of Agenic AI is attracting significant attention from both established tech giants and innovative startups. \n",
      "\n",
      "* **OpenAI**, known for its groundbreaking ChatGPT, is at the forefront of developing generative AI agents capable of creating human-quality text, code, and even art.\n",
      "* **Google DeepMind**, renowned for its breakthroughs in game playing with AlphaGo and protein folding with AlphaFold, is pushing the boundaries of AI capabilities.\n",
      "* **Anthropic**, a company founded by former OpenAI researchers, focuses on building ethical and safe AI agents, emphasizing responsible development practices.\n",
      "* **Cohere**, a Canadian AI company, provides tools and APIs for developers to integrate AI agents into their applications, democratizing access to this transformative technology.\n",
      "\n",
      "These are just a few examples of the companies leading the charge in Agenic AI. Their innovations are constantly shaping the landscape of this rapidly evolving field.\n",
      "\n",
      "### Transforming Industries, Empowering Individuals\n",
      "\n",
      "The potential applications of Agenic AI are vast and span across diverse industries:\n",
      "\n",
      "* **Customer Service:** AI-powered chatbots and virtual assistants are already transforming customer service, providing quick and efficient solutions to common queries, freeing up human agents to handle more complex issues. Imagine a chatbot that can not only answer your questions but also understand your needs and offer personalized solutions.\n",
      "* **Education:** Personalized learning experiences powered by AI agents can adapt to individual student needs, providing tailored instruction and support. Intelligent tutoring systems can offer real-time feedback and guidance, helping students learn more effectively. \n",
      "\n",
      "* **Healthcare:** AI agents can assist in diagnosis, analyze medical images, and even contribute to drug discovery. They can also monitor patient health remotely, providing timely alerts and interventions.\n",
      "* **Research:** AI agents can analyze massive datasets, identify patterns, and generate hypotheses, accelerating scientific discovery in fields like climate science, genomics, and materials science.\n",
      "\n",
      "These are just a few examples of how Agenic AI is poised to revolutionize various aspects of our lives.\n",
      "\n",
      "###  Navigating the Ethical Landscape\n",
      "\n",
      "While the potential of Agenic AI is immense, it also raises important ethical considerations:\n",
      "\n",
      "* **Bias and Fairness:** AI agents learn from the data they are trained on, and if that data reflects existing societal biases, the AI can perpetuate those biases. It's crucial to ensure that AI agents are trained on diverse and representative data to mitigate bias.\n",
      "\n",
      "* **Transparency and Explainability:** Understanding how AI agents make decisions is essential for building trust and accountability. Research into making AI models more transparent and explainable is crucial.\n",
      "* **Job Displacement:** As AI agents become more capable, there are concerns about potential job displacement. It's important to consider the societal impact of AI and develop strategies for reskilling and upskilling the workforce.\n",
      "\n",
      "These are complex challenges that require careful consideration and collaboration between researchers, policymakers, and industry leaders.\n",
      "\n",
      "**A Future Shaped by Intelligent Agents**\n",
      "\n",
      "\n",
      "Agenic AI is undoubtedly one of the most transformative technologies of our time. Its ability to learn, adapt, and solve problems autonomously has the potential to revolutionize countless industries and aspects of our lives. As this technology continues to evolve, it is essential to navigate the ethical challenges and ensure that AI benefits all of humanity.  \n",
      "\n",
      "\n",
      "\n",
      "\n",
      "\u001b[00m\n",
      "\n",
      "\n"
     ]
    }
   ],
   "source": [
    "topic = \"Agenic AI Trend.\"\n",
    "result = crew.kickoff(inputs={\"topic\": topic})"
   ]
  },
  {
   "cell_type": "code",
   "execution_count": 14,
   "metadata": {
    "height": 29
   },
   "outputs": [
    {
     "data": {
      "text/markdown": [
       "Thought: I now can give a great answer\n",
       "\n",
       "## Agenic AI:  Intelligent Agents Shaping Our Future \n",
       "\n",
       "The world of technology is in constant flux, and few advancements are as profound as the rise of **Agenic AI**. This refers to the development of artificial intelligence agents capable of independent learning, problem-solving, and interaction with their environment. Imagine AI that can not only process information but also learn from it, adapt to new situations, and even make decisions without direct human intervention. This is the promise of Agenic AI, and it's rapidly becoming a reality. \n",
       "\n",
       "This shift towards more autonomous and adaptable AI is driven by significant breakthroughs in machine learning, natural language processing, and computer vision. These advancements have enabled AI agents to perform increasingly complex tasks, blurring the lines between human and machine intelligence.\n",
       "\n",
       "### A Brief History: From Rules to Revolution \n",
       "\n",
       "The journey towards Agenic AI has been marked by milestones in artificial intelligence research.  Early AI systems relied on pre-programmed rules, limiting their ability to adapt to new situations. The development of expert systems brought a degree of sophistication, allowing AI to mimic the decision-making of human experts in specific domains. However, it was the advent of deep learning, a powerful subset of machine learning, that truly revolutionized AI. Deep learning algorithms, inspired by the structure of the human brain, can learn complex patterns from vast amounts of data, enabling AI agents to perform tasks like image recognition, speech synthesis, and natural language understanding with unprecedented accuracy.\n",
       "\n",
       "###  Key Players Shaping the Future\n",
       "\n",
       "The field of Agenic AI is attracting significant attention from both established tech giants and innovative startups. \n",
       "\n",
       "* **OpenAI**, known for its groundbreaking ChatGPT, is at the forefront of developing generative AI agents capable of creating human-quality text, code, and even art.\n",
       "* **Google DeepMind**, renowned for its breakthroughs in game playing with AlphaGo and protein folding with AlphaFold, is pushing the boundaries of AI capabilities.\n",
       "* **Anthropic**, a company founded by former OpenAI researchers, focuses on building ethical and safe AI agents, emphasizing responsible development practices.\n",
       "* **Cohere**, a Canadian AI company, provides tools and APIs for developers to integrate AI agents into their applications, democratizing access to this transformative technology.\n",
       "\n",
       "These are just a few examples of the companies leading the charge in Agenic AI. Their innovations are constantly shaping the landscape of this rapidly evolving field.\n",
       "\n",
       "### Transforming Industries, Empowering Individuals\n",
       "\n",
       "The potential applications of Agenic AI are vast and span across diverse industries:\n",
       "\n",
       "* **Customer Service:** AI-powered chatbots and virtual assistants are already transforming customer service, providing quick and efficient solutions to common queries, freeing up human agents to handle more complex issues. Imagine a chatbot that can not only answer your questions but also understand your needs and offer personalized solutions.\n",
       "* **Education:** Personalized learning experiences powered by AI agents can adapt to individual student needs, providing tailored instruction and support. Intelligent tutoring systems can offer real-time feedback and guidance, helping students learn more effectively. \n",
       "\n",
       "* **Healthcare:** AI agents can assist in diagnosis, analyze medical images, and even contribute to drug discovery. They can also monitor patient health remotely, providing timely alerts and interventions.\n",
       "* **Research:** AI agents can analyze massive datasets, identify patterns, and generate hypotheses, accelerating scientific discovery in fields like climate science, genomics, and materials science.\n",
       "\n",
       "These are just a few examples of how Agenic AI is poised to revolutionize various aspects of our lives.\n",
       "\n",
       "###  Navigating the Ethical Landscape\n",
       "\n",
       "While the potential of Agenic AI is immense, it also raises important ethical considerations:\n",
       "\n",
       "* **Bias and Fairness:** AI agents learn from the data they are trained on, and if that data reflects existing societal biases, the AI can perpetuate those biases. It's crucial to ensure that AI agents are trained on diverse and representative data to mitigate bias.\n",
       "\n",
       "* **Transparency and Explainability:** Understanding how AI agents make decisions is essential for building trust and accountability. Research into making AI models more transparent and explainable is crucial.\n",
       "* **Job Displacement:** As AI agents become more capable, there are concerns about potential job displacement. It's important to consider the societal impact of AI and develop strategies for reskilling and upskilling the workforce.\n",
       "\n",
       "These are complex challenges that require careful consideration and collaboration between researchers, policymakers, and industry leaders.\n",
       "\n",
       "**A Future Shaped by Intelligent Agents**\n",
       "\n",
       "\n",
       "Agenic AI is undoubtedly one of the most transformative technologies of our time. Its ability to learn, adapt, and solve problems autonomously has the potential to revolutionize countless industries and aspects of our lives. As this technology continues to evolve, it is essential to navigate the ethical challenges and ensure that AI benefits all of humanity.  \n",
       "\n",
       "\n",
       "\n",
       "\n"
      ],
      "text/plain": [
       "<IPython.core.display.Markdown object>"
      ]
     },
     "execution_count": 14,
     "metadata": {},
     "output_type": "execute_result"
    }
   ],
   "source": [
    "Markdown(result.raw)"
   ]
  }
 ],
 "metadata": {
  "colab": {
   "gpuType": "T4",
   "provenance": []
  },
  "kernelspec": {
   "display_name": ".venv",
   "language": "python",
   "name": "python3"
  },
  "language_info": {
   "codemirror_mode": {
    "name": "ipython",
    "version": 3
   },
   "file_extension": ".py",
   "mimetype": "text/x-python",
   "name": "python",
   "nbconvert_exporter": "python",
   "pygments_lexer": "ipython3",
   "version": "3.12.10"
  }
 },
 "nbformat": 4,
 "nbformat_minor": 4
}
