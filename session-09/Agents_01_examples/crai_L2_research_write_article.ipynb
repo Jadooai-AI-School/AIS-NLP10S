{
 "cells": [
  {
   "cell_type": "markdown",
   "metadata": {},
   "source": [
    "You can download the `requirements.txt` for this course from the workspace of this lab. `File --> Open...`"
   ]
  },
  {
   "cell_type": "markdown",
   "metadata": {},
   "source": [
    "# L2: Create Agents to Research and Write an Article\n",
    "\n",
    "In this lesson, you will be introduced to the foundational concepts of multi-agent systems and get an overview of the crewAI framework."
   ]
  },
  {
   "cell_type": "markdown",
   "metadata": {},
   "source": [
    "The libraries are already installed in the classroom. If you're running this notebook on your own machine, you can install the following:\n",
    "```Python\n",
    "!uv tool install crewai crewai_tools langchain_community\n",
    "```"
   ]
  },
  {
   "cell_type": "code",
   "execution_count": 1,
   "metadata": {
    "height": 64
   },
   "outputs": [],
   "source": [
    "# Warning control\n",
    "import warnings\n",
    "warnings.filterwarnings('ignore')"
   ]
  },
  {
   "cell_type": "markdown",
   "metadata": {},
   "source": [
    "- Import from the crewAI libray."
   ]
  },
  {
   "cell_type": "code",
   "execution_count": 2,
   "metadata": {
    "height": 30
   },
   "outputs": [
    {
     "data": {
      "text/plain": [
       "True"
      ]
     },
     "execution_count": 2,
     "metadata": {},
     "output_type": "execute_result"
    }
   ],
   "source": [
    "from crewai import Agent, Task, Crew\n",
    "from crewai import LLM\n",
    "from dotenv import load_dotenv\n",
    "import os\n",
    "\n",
    "load_dotenv()  # this will load env keys from .env file"
   ]
  },
  {
   "cell_type": "markdown",
   "metadata": {},
   "source": [
    "- As a LLM for your agents, you'll be using OpenAI's `gpt-3.5-turbo`.\n",
    "\n",
    "**Optional Note:** crewAI also allow other popular models to be used as a LLM for your Agents. You can see its documentation at https://docs.crewai.com/concepts/llms"
   ]
  },
  {
   "cell_type": "code",
   "execution_count": 3,
   "metadata": {},
   "outputs": [],
   "source": [
    "api_key = os.getenv('GROQ_API_KEY')\n",
    "llm = LLM(\n",
    "    model=\"groq/gemma2-9b-it\",\n",
    "    temperature = 0.7\n",
    ")"
   ]
  },
  {
   "cell_type": "markdown",
   "metadata": {},
   "source": [
    "## Creating Agents\n",
    "\n",
    "- Define your Agents, and provide them a `role`, `goal` and `backstory`.\n",
    "- It has been seen that LLMs perform better when they are role playing."
   ]
  },
  {
   "cell_type": "markdown",
   "metadata": {},
   "source": [
    "### Agent: Planner\n",
    "\n",
    "**Note**: The benefit of using _multiple strings_ :\n",
    "```Python\n",
    "varname = \"line 1 of text\"\n",
    "          \"line 2 of text\"\n",
    "```\n",
    "\n",
    "versus the _triple quote docstring_:\n",
    "```Python\n",
    "varname = \"\"\"line 1 of text\n",
    "             line 2 of text\n",
    "          \"\"\"\n",
    "```\n",
    "is that it can avoid adding those whitespaces and newline characters, making it better formatted to be passed to the LLM."
   ]
  },
  {
   "cell_type": "code",
   "execution_count": 4,
   "metadata": {
    "height": 248
   },
   "outputs": [],
   "source": [
    "planner = Agent(\n",
    "    role=\"Content Planner\",\n",
    "    goal=\"Plan engaging and factually accurate content on {topic}\",\n",
    "    backstory=\"You're working on planning a blog article \"\n",
    "              \"about the topic: {topic}.\"\n",
    "              \"You collect information that helps the \"\n",
    "              \"audience learn something \"\n",
    "              \"and make informed decisions. \"\n",
    "              \"Your work is the basis for \"\n",
    "              \"the Content Writer to write an article on this topic.\",\n",
    "    allow_delegation=False,\n",
    "\tverbose=True,\n",
    "    llm=llm\n",
    ")"
   ]
  },
  {
   "cell_type": "markdown",
   "metadata": {},
   "source": [
    "### Agent: Writer"
   ]
  },
  {
   "cell_type": "code",
   "execution_count": 5,
   "metadata": {
    "height": 384
   },
   "outputs": [],
   "source": [
    "writer = Agent(\n",
    "    role=\"Content Writer\",\n",
    "    goal=\"Write insightful and factually accurate \"\n",
    "         \"opinion piece about the topic: {topic}\",\n",
    "    backstory=\"You're working on a writing \"\n",
    "              \"a new opinion piece about the topic: {topic}. \"\n",
    "              \"You base your writing on the work of \"\n",
    "              \"the Content Planner, who provides an outline \"\n",
    "              \"and relevant context about the topic. \"\n",
    "              \"You follow the main objectives and \"\n",
    "              \"direction of the outline, \"\n",
    "              \"as provide by the Content Planner. \"\n",
    "              \"You also provide objective and impartial insights \"\n",
    "              \"and back them up with information \"\n",
    "              \"provide by the Content Planner. \"\n",
    "              \"You acknowledge in your opinion piece \"\n",
    "              \"when your statements are opinions \"\n",
    "              \"as opposed to objective statements.\",\n",
    "    allow_delegation=False,\n",
    "    verbose=True,\n",
    "    llm=llm\n",
    ")"
   ]
  },
  {
   "cell_type": "markdown",
   "metadata": {},
   "source": [
    "### Agent: Editor"
   ]
  },
  {
   "cell_type": "code",
   "execution_count": 6,
   "metadata": {
    "height": 282
   },
   "outputs": [],
   "source": [
    "editor = Agent(\n",
    "    role=\"Editor\",\n",
    "    goal=\"Edit a given blog post to align with \"\n",
    "         \"the writing style of the organization. \",\n",
    "    backstory=\"You are an editor who receives a blog post \"\n",
    "              \"from the 'Content Writer'. \"\n",
    "              \"Your goal is to review the blog post \"\n",
    "              \"to ensure that it follows journalistic best practices,\"\n",
    "              \"provides balanced viewpoints \"\n",
    "              \"when providing opinions or assertions, \"\n",
    "              \"and also avoids major controversial topics \"\n",
    "              \"or opinions when possible.\",\n",
    "    allow_delegation=False,\n",
    "    verbose=True,\n",
    "    llm=llm\n",
    ")"
   ]
  },
  {
   "cell_type": "markdown",
   "metadata": {},
   "source": [
    "## Creating Tasks\n",
    "\n",
    "- Define your Tasks, and provide them a `description`, `expected_output` and `agent`."
   ]
  },
  {
   "cell_type": "markdown",
   "metadata": {},
   "source": [
    "### Task: Plan"
   ]
  },
  {
   "cell_type": "code",
   "execution_count": 7,
   "metadata": {
    "height": 282
   },
   "outputs": [],
   "source": [
    "plan = Task(\n",
    "    description=(\n",
    "        \"1. Prioritize the latest trends, key players, \"\n",
    "            \"and noteworthy news on {topic}.\\n\"\n",
    "        \"2. Identify the target audience, considering \"\n",
    "            \"their interests and pain points.\\n\"\n",
    "        \"3. Develop a detailed content outline including \"\n",
    "            \"an introduction, key points, and a call to action.\\n\"\n",
    "        \"4. Include SEO keywords and relevant data or sources.\"\n",
    "    ),\n",
    "    expected_output=\"A comprehensive content plan document \"\n",
    "        \"with an outline, audience analysis, \"\n",
    "        \"SEO keywords, and resources.\",\n",
    "    agent=planner,\n",
    ")"
   ]
  },
  {
   "cell_type": "markdown",
   "metadata": {},
   "source": [
    "### Task: Write"
   ]
  },
  {
   "cell_type": "code",
   "execution_count": 8,
   "metadata": {
    "height": 333
   },
   "outputs": [],
   "source": [
    "write = Task(\n",
    "    description=(\n",
    "        \"1. Use the content plan to craft a compelling \"\n",
    "            \"blog post on {topic}.\\n\"\n",
    "        \"2. Incorporate SEO keywords naturally.\\n\"\n",
    "\t\t\"3. Sections/Subtitles are properly named \"\n",
    "            \"in an engaging manner.\\n\"\n",
    "        \"4. Ensure the post is structured with an \"\n",
    "            \"engaging introduction, insightful body, \"\n",
    "            \"and a summarizing conclusion.\\n\"\n",
    "        \"5. Proofread for grammatical errors and \"\n",
    "            \"alignment with the brand's voice.\\n\"\n",
    "    ),\n",
    "    expected_output=\"A well-written blog post \"\n",
    "        \"in markdown format, ready for publication, \"\n",
    "        \"each section should have 2 or 3 paragraphs.\",\n",
    "    agent=writer,\n",
    ")"
   ]
  },
  {
   "cell_type": "markdown",
   "metadata": {},
   "source": [
    "### Task: Edit"
   ]
  },
  {
   "cell_type": "code",
   "execution_count": 9,
   "metadata": {
    "height": 180
   },
   "outputs": [],
   "source": [
    "edit = Task(\n",
    "    description=(\"Proofread the written blog post for \"\n",
    "                 \"grammatical errors and \"\n",
    "                 \"alignment with the brand's voice.\"),\n",
    "    expected_output=\"A well-written blog post in markdown format, \"\n",
    "                    \"ready for publication, \"\n",
    "                    \"each section should have 2 or 3 paragraphs.\",\n",
    "    agent=editor\n",
    ")"
   ]
  },
  {
   "cell_type": "markdown",
   "metadata": {},
   "source": [
    "## Creating the Crew\n",
    "\n",
    "- Create your crew of Agents\n",
    "- Pass the tasks to be performed by those agents.\n",
    "    - **Note**: *For this simple example*, the tasks will be performed sequentially (i.e they are dependent on each other), so the _order_ of the task in the list _matters_.\n",
    "- `verbose=2` allows you to see all the logs of the execution. "
   ]
  },
  {
   "cell_type": "code",
   "execution_count": 10,
   "metadata": {
    "height": 97
   },
   "outputs": [],
   "source": [
    "crew = Crew(\n",
    "    agents=[planner, writer, editor],\n",
    "    tasks=[plan, write, edit],\n",
    "    verbose=False\n",
    ")"
   ]
  },
  {
   "cell_type": "markdown",
   "metadata": {},
   "source": [
    "## Running the Crew"
   ]
  },
  {
   "cell_type": "markdown",
   "metadata": {},
   "source": [
    "**Note**: LLMs can provide different outputs for they same input, so what you get might be different than what you see in the video."
   ]
  },
  {
   "cell_type": "code",
   "execution_count": 11,
   "metadata": {
    "height": 44
   },
   "outputs": [
    {
     "name": "stdout",
     "output_type": "stream",
     "text": [
      "\u001b[1m\u001b[95m# Agent:\u001b[00m \u001b[1m\u001b[92mContent Planner\u001b[00m\n",
      "\u001b[95m## Task:\u001b[00m \u001b[92m1. Prioritize the latest trends, key players, and noteworthy news on Artificial Intelligence.\n",
      "2. Identify the target audience, considering their interests and pain points.\n",
      "3. Develop a detailed content outline including an introduction, key points, and a call to action.\n",
      "4. Include SEO keywords and relevant data or sources.\u001b[00m\n",
      "\n",
      "\n",
      "\u001b[1m\u001b[95m# Agent:\u001b[00m \u001b[1m\u001b[92mContent Planner\u001b[00m\n",
      "\u001b[95m## Final Answer:\u001b[00m \u001b[92m\n",
      "##  Content Plan: Demystifying Artificial Intelligence \n",
      "\n",
      "**Goal:** To provide a clear, engaging, and informative overview of Artificial Intelligence, its latest trends, and its potential impact on our lives.\n",
      "\n",
      "**Target Audience:**\n",
      "\n",
      "* **Tech enthusiasts:**  Individuals interested in the latest technological advancements and their implications.\n",
      "* **Professionals:** Individuals across various industries seeking to understand how AI is transforming their field.\n",
      "* **General public:** Individuals curious about AI and its potential benefits and risks.\n",
      "\n",
      "**Pain Points:**\n",
      "\n",
      "* **Lack of understanding:** Many people find AI complex and intimidating due to technical jargon and misconceptions.\n",
      "* **Fear of the unknown:** Concerns about job displacement and the ethical implications of AI are prevalent.\n",
      "* **Difficulty navigating the hype:** Separating genuine AI advancements from exaggerated claims can be challenging.\n",
      "\n",
      "**SEO Keywords:**\n",
      "\n",
      "* Artificial Intelligence (AI)\n",
      "* Machine Learning (ML)\n",
      "* Deep Learning (DL)\n",
      "* AI Trends 2023\n",
      "* AI Applications\n",
      "* AI Ethics\n",
      "* Future of AI\n",
      "* AI for Business\n",
      "\n",
      "**Content Outline:**\n",
      "\n",
      "**I. Introduction:**\n",
      "\n",
      "* **Hook:** Start with a captivating question or statistic about AI's growing influence.\n",
      "* **Definition:**  Provide a clear and concise definition of AI, differentiating it from traditional computer programming.\n",
      "* **Scope:** Briefly outline the diverse applications of AI across various industries.\n",
      "* **Thesis statement:**  State the purpose of the article – to demystify AI, explore its latest trends, and address key concerns.\n",
      "\n",
      "**II.  Latest Trends in AI:**\n",
      "\n",
      "* **Generative AI:** Discuss the rise of AI models like ChatGPT and DALL-E, highlighting their capabilities and potential applications. \n",
      "* **Explainable AI (XAI):**  Explain the importance of making AI decisions transparent and understandable to humans. \n",
      "* **Edge AI:** Explore the shift towards deploying AI models on edge devices for faster processing and reduced reliance on cloud computing.\n",
      "* **AI for Sustainability:** Discuss how AI is being used to address environmental challenges like climate change and resource management.\n",
      "\n",
      "**III. Key Players in the AI Landscape:**\n",
      "\n",
      "* **Tech giants:** Discuss the role of companies like Google, Microsoft, Amazon, and Meta in driving AI research and development.\n",
      "* **Startups:** Highlight innovative startups pushing the boundaries of AI in specific industries (e.g., healthcare, finance, education).\n",
      "* **Research institutions:** Recognize the contributions of universities and research labs to advancing AI knowledge.\n",
      "\n",
      "**IV.  Noteworthy News and Developments:**\n",
      "\n",
      "* **Recent breakthroughs:**  Summarize significant advancements in AI research, such as improved model accuracy or new applications.\n",
      "* **Industry adoption:**  Showcase examples of how businesses are leveraging AI to enhance their operations, products, or services.\n",
      "* **Policy and regulations:** Briefly discuss ongoing discussions and regulations surrounding AI ethics and responsible development.\n",
      "\n",
      "**V.  The Future of AI:**\n",
      "\n",
      "* **Potential benefits:** Explore the positive impacts of AI on society, such as improved healthcare, personalized education, and increased productivity.\n",
      "* **Potential risks:** Address concerns about job displacement, algorithmic bias, and the misuse of AI for malicious purposes.\n",
      "* **Call to action:** Encourage readers to engage in informed discussions about AI's future and advocate for responsible development and deployment.\n",
      "\n",
      "**VI. Resources:**\n",
      "\n",
      "* **Links to reputable AI research institutions and organizations:**\n",
      "    * OpenAI\n",
      "    * DeepMind\n",
      "    * The AI Now Institute\n",
      "    * Partnership on AI\n",
      "* **Recommended books and articles for further reading:**\n",
      "    * \"Superintelligence\" by Nick Bostrom\n",
      "    * \"Life 3.0: Being Human in the Age of Artificial Intelligence\" by Max Tegmark\n",
      "    * \"Weapons of Math Destruction\" by Cathy O'Neil\n",
      "\n",
      "**Data and Sources:**\n",
      "\n",
      "* **Industry reports:** Statista, Gartner, IDC\n",
      "* **Academic journals:** Nature, Science, Artificial Intelligence\n",
      "* **News articles:** The New York Times, The Guardian, MIT Technology Review\u001b[00m\n",
      "\n",
      "\n",
      "\u001b[1m\u001b[95m# Agent:\u001b[00m \u001b[1m\u001b[92mContent Writer\u001b[00m\n",
      "\u001b[95m## Task:\u001b[00m \u001b[92m1. Use the content plan to craft a compelling blog post on Artificial Intelligence.\n",
      "2. Incorporate SEO keywords naturally.\n",
      "3. Sections/Subtitles are properly named in an engaging manner.\n",
      "4. Ensure the post is structured with an engaging introduction, insightful body, and a summarizing conclusion.\n",
      "5. Proofread for grammatical errors and alignment with the brand's voice.\n",
      "\u001b[00m\n",
      "\n",
      "\n",
      "\u001b[1m\u001b[95m# Agent:\u001b[00m \u001b[1m\u001b[92mContent Writer\u001b[00m\n",
      "\u001b[95m## Final Answer:\u001b[00m \u001b[92m\n",
      "## Demystifying Artificial Intelligence: Trends, Impact, and the Future\n",
      "\n",
      "Artificial intelligence (AI) has rapidly transitioned from a futuristic concept to a tangible force shaping our world. From personalized recommendations on streaming platforms to self-driving cars, AI is quietly revolutionizing industries and touching nearly every aspect of our lives. But what exactly is AI, and how is it impacting us today? \n",
      "\n",
      "**Beyond the Buzzword: Defining AI**\n",
      "\n",
      "At its core, AI refers to the ability of computers to perform tasks that typically require human intelligence, such as learning, problem-solving, and decision-making. Unlike traditional programming, which relies on explicit instructions, AI algorithms learn from data, identifying patterns and making predictions. This ability to learn and adapt makes AI a powerful tool with the potential to automate complex processes, uncover hidden insights, and create entirely new possibilities.\n",
      "\n",
      "**AI is Everywhere: A Look at Today's Trends**\n",
      "\n",
      "The field of AI is constantly evolving, with new breakthroughs and applications emerging at a rapid pace. Some of the most notable trends shaping the AI landscape include:\n",
      "\n",
      "* **Generative AI:** \n",
      "This exciting branch of AI focuses on creating new content, such as text, images, music, and even code.  Models like ChatGPT and DALL-E have captured public imagination by generating human-quality text and images, respectively. These tools have vast potential in creative fields, content creation, and even scientific research.\n",
      "\n",
      "* **Explainable AI (XAI):** As AI systems become more complex, understanding how they arrive at their decisions is crucial. XAI aims to make AI more transparent and interpretable, allowing humans to better understand the reasoning behind AI-driven outcomes. This is particularly important in fields like healthcare and finance where trust and accountability are paramount.\n",
      "\n",
      "* **Edge AI:**  Traditionally, AI relied on powerful cloud computing infrastructure for processing. Edge AI, however, brings AI processing to the edge of the network, closer to the data source. This reduces latency, enhances privacy, and enables real-time decision-making in applications like autonomous vehicles and industrial automation.\n",
      "\n",
      "**A Collaborative Future: Key Players in AI**\n",
      "\n",
      "The development and advancement of AI are driven by a diverse ecosystem of players:\n",
      "\n",
      "* **Tech Giants:**  Companies like Google, Microsoft, Amazon, and Meta are investing heavily in AI research and development, pushing the boundaries of what's possible with AI. Their vast resources and data allow them to train powerful AI models and develop innovative applications across various industries.\n",
      "\n",
      "* **Startups:**  A wave of startups is emerging, focusing on niche applications of AI in fields like healthcare, finance, education, and agriculture. Their agility and focus on specific problems often lead to innovative solutions that address real-world challenges.\n",
      "\n",
      "* **Research Institutions:**  Universities and research labs play a vital role in advancing fundamental AI research. Their work on areas like machine learning, deep learning, and robotics lays the groundwork for future AI breakthroughs and applications.\n",
      "\n",
      "**Looking Ahead: The AI Horizon**\n",
      "\n",
      "The future of AI holds both immense promise and significant challenges. While AI has the potential to revolutionize healthcare, education, sustainability, and countless other aspects of our lives, it also raises concerns about job displacement, algorithmic bias, and the potential misuse of this powerful technology.\n",
      "\n",
      "It is crucial that we approach AI development and deployment responsibly, ensuring that it benefits society as a whole. This requires ongoing dialogue, collaboration, and a commitment to ethical considerations. As AI continues to evolve, our role is to shape its development in a way that aligns with our values and creates a better future for all.\u001b[00m\n",
      "\n",
      "\n",
      "\u001b[1m\u001b[95m# Agent:\u001b[00m \u001b[1m\u001b[92mEditor\u001b[00m\n",
      "\u001b[95m## Task:\u001b[00m \u001b[92mProofread the written blog post for grammatical errors and alignment with the brand's voice.\u001b[00m\n",
      "\n",
      "\n",
      "\u001b[1m\u001b[95m# Agent:\u001b[00m \u001b[1m\u001b[92mEditor\u001b[00m\n",
      "\u001b[95m## Final Answer:\u001b[00m \u001b[92m\n",
      "## Demystifying Artificial Intelligence: Trends, Impact, and the Future\n",
      "\n",
      "Artificial intelligence (AI) has rapidly transitioned from a futuristic concept to a tangible force shaping our world. From personalized recommendations on streaming platforms to self-driving cars, AI is quietly revolutionizing industries and touching nearly every aspect of our lives. But what exactly is AI, and how is it impacting us today? \n",
      "\n",
      "**Beyond the Buzzword: Defining AI**\n",
      "\n",
      "At its core, AI refers to the ability of computers to perform tasks that typically require human intelligence, such as learning, problem-solving, and decision-making. Unlike traditional programming, which relies on explicit instructions, AI algorithms learn from data, identifying patterns and making predictions. This ability to learn and adapt makes AI a powerful tool with the potential to automate complex processes, uncover hidden insights, and create entirely new possibilities.\n",
      "\n",
      "**AI is Everywhere: A Look at Today's Trends**\n",
      "\n",
      "The field of AI is constantly evolving, with new breakthroughs and applications emerging at a rapid pace. Some of the most notable trends shaping the AI landscape include:\n",
      "\n",
      "* **Generative AI:** This exciting branch of AI focuses on creating new content, such as text, images, music, and even code.  Models like ChatGPT and DALL-E have captured public imagination by generating human-quality text and images, respectively. These tools have vast potential in creative fields, content creation, and even scientific research.\n",
      "* **Explainable AI (XAI):** As AI systems become more complex, understanding how they arrive at their decisions is crucial. XAI aims to make AI more transparent and interpretable, allowing humans to better understand the reasoning behind AI-driven outcomes. This is particularly important in fields like healthcare and finance where trust and accountability are paramount.\n",
      "* **Edge AI:** Traditionally, AI relied on powerful cloud computing infrastructure for processing. Edge AI, however, brings AI processing to the edge of the network, closer to the data source. This reduces latency, enhances privacy, and enables real-time decision-making in applications like autonomous vehicles and industrial automation.\n",
      "\n",
      "**Shaping the Future: Key Players in AI**\n",
      "\n",
      "The development and advancement of AI are driven by a diverse ecosystem of players:\n",
      "\n",
      "* **Tech Giants:** Companies like Google, Microsoft, Amazon, and Meta are investing heavily in AI research and development, pushing the boundaries of what's possible with AI. Their vast resources and data allow them to train powerful AI models and develop innovative applications across various industries.\n",
      "* **Startups:**  A wave of startups is emerging, focusing on niche applications of AI in fields like healthcare, finance, education, and agriculture. Their agility and focus on specific problems often lead to innovative solutions that address real-world challenges.\n",
      "* **Research Institutions:** Universities and research labs play a vital role in advancing fundamental AI research. Their work on areas like machine learning, deep learning, and robotics lays the groundwork for future AI breakthroughs and applications.\n",
      "\n",
      "**Navigating the Horizon: The Future of AI**\n",
      "\n",
      "The future of AI holds both immense promise and significant challenges. While AI has the potential to revolutionize healthcare, education, sustainability, and countless other aspects of our lives, it also raises concerns about job displacement, algorithmic bias, and the potential misuse of this powerful technology.\n",
      "\n",
      "It is crucial that we approach AI development and deployment responsibly, ensuring that it benefits society as a whole. This requires ongoing dialogue, collaboration, and a commitment to ethical considerations. As AI continues to evolve, our role is to shape its development in a way that aligns with our values and creates a better future for all.\u001b[00m\n",
      "\n",
      "\n"
     ]
    }
   ],
   "source": [
    "result = crew.kickoff(inputs={\"topic\": \"Artificial Intelligence\"})"
   ]
  },
  {
   "cell_type": "markdown",
   "metadata": {},
   "source": [
    "- Display the results of your execution as markdown in the notebook."
   ]
  },
  {
   "cell_type": "code",
   "execution_count": 12,
   "metadata": {
    "height": 46
   },
   "outputs": [
    {
     "data": {
      "text/markdown": [
       "## Demystifying Artificial Intelligence: Trends, Impact, and the Future\n",
       "\n",
       "Artificial intelligence (AI) has rapidly transitioned from a futuristic concept to a tangible force shaping our world. From personalized recommendations on streaming platforms to self-driving cars, AI is quietly revolutionizing industries and touching nearly every aspect of our lives. But what exactly is AI, and how is it impacting us today? \n",
       "\n",
       "**Beyond the Buzzword: Defining AI**\n",
       "\n",
       "At its core, AI refers to the ability of computers to perform tasks that typically require human intelligence, such as learning, problem-solving, and decision-making. Unlike traditional programming, which relies on explicit instructions, AI algorithms learn from data, identifying patterns and making predictions. This ability to learn and adapt makes AI a powerful tool with the potential to automate complex processes, uncover hidden insights, and create entirely new possibilities.\n",
       "\n",
       "**AI is Everywhere: A Look at Today's Trends**\n",
       "\n",
       "The field of AI is constantly evolving, with new breakthroughs and applications emerging at a rapid pace. Some of the most notable trends shaping the AI landscape include:\n",
       "\n",
       "* **Generative AI:** This exciting branch of AI focuses on creating new content, such as text, images, music, and even code.  Models like ChatGPT and DALL-E have captured public imagination by generating human-quality text and images, respectively. These tools have vast potential in creative fields, content creation, and even scientific research.\n",
       "* **Explainable AI (XAI):** As AI systems become more complex, understanding how they arrive at their decisions is crucial. XAI aims to make AI more transparent and interpretable, allowing humans to better understand the reasoning behind AI-driven outcomes. This is particularly important in fields like healthcare and finance where trust and accountability are paramount.\n",
       "* **Edge AI:** Traditionally, AI relied on powerful cloud computing infrastructure for processing. Edge AI, however, brings AI processing to the edge of the network, closer to the data source. This reduces latency, enhances privacy, and enables real-time decision-making in applications like autonomous vehicles and industrial automation.\n",
       "\n",
       "**Shaping the Future: Key Players in AI**\n",
       "\n",
       "The development and advancement of AI are driven by a diverse ecosystem of players:\n",
       "\n",
       "* **Tech Giants:** Companies like Google, Microsoft, Amazon, and Meta are investing heavily in AI research and development, pushing the boundaries of what's possible with AI. Their vast resources and data allow them to train powerful AI models and develop innovative applications across various industries.\n",
       "* **Startups:**  A wave of startups is emerging, focusing on niche applications of AI in fields like healthcare, finance, education, and agriculture. Their agility and focus on specific problems often lead to innovative solutions that address real-world challenges.\n",
       "* **Research Institutions:** Universities and research labs play a vital role in advancing fundamental AI research. Their work on areas like machine learning, deep learning, and robotics lays the groundwork for future AI breakthroughs and applications.\n",
       "\n",
       "**Navigating the Horizon: The Future of AI**\n",
       "\n",
       "The future of AI holds both immense promise and significant challenges. While AI has the potential to revolutionize healthcare, education, sustainability, and countless other aspects of our lives, it also raises concerns about job displacement, algorithmic bias, and the potential misuse of this powerful technology.\n",
       "\n",
       "It is crucial that we approach AI development and deployment responsibly, ensuring that it benefits society as a whole. This requires ongoing dialogue, collaboration, and a commitment to ethical considerations. As AI continues to evolve, our role is to shape its development in a way that aligns with our values and creates a better future for all."
      ],
      "text/plain": [
       "<IPython.core.display.Markdown object>"
      ]
     },
     "execution_count": 12,
     "metadata": {},
     "output_type": "execute_result"
    }
   ],
   "source": [
    "from IPython.display import Markdown\n",
    "Markdown(result.raw)"
   ]
  },
  {
   "cell_type": "markdown",
   "metadata": {},
   "source": [
    "## Try it Yourself\n",
    "\n",
    "- Pass in a topic of your choice and see what the agents come up with!"
   ]
  },
  {
   "cell_type": "code",
   "execution_count": null,
   "metadata": {
    "height": 46
   },
   "outputs": [],
   "source": [
    "topic = \"Agenic AI Trend.\"\n",
    "result = crew.kickoff(inputs={\"topic\": topic})"
   ]
  },
  {
   "cell_type": "code",
   "execution_count": null,
   "metadata": {
    "height": 29
   },
   "outputs": [],
   "source": [
    "Markdown(result.raw)"
   ]
  }
 ],
 "metadata": {
  "colab": {
   "gpuType": "T4",
   "provenance": []
  },
  "kernelspec": {
   "display_name": ".venv",
   "language": "python",
   "name": "python3"
  },
  "language_info": {
   "codemirror_mode": {
    "name": "ipython",
    "version": 3
   },
   "file_extension": ".py",
   "mimetype": "text/x-python",
   "name": "python",
   "nbconvert_exporter": "python",
   "pygments_lexer": "ipython3",
   "version": "3.12.10"
  }
 },
 "nbformat": 4,
 "nbformat_minor": 4
}
