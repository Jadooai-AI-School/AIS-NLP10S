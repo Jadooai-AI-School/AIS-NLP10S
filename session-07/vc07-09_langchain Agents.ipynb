{
 "cells": [
  {
   "cell_type": "markdown",
   "metadata": {},
   "source": [
    "### LangChain Examples Notebook: Agents\n"
   ]
  },
  {
   "cell_type": "markdown",
   "metadata": {},
   "source": [
    "IMPORTS"
   ]
  },
  {
   "cell_type": "code",
   "execution_count": 1,
   "metadata": {},
   "outputs": [
    {
     "name": "stdout",
     "output_type": "stream",
     "text": [
      "Using device: cuda\n"
     ]
    }
   ],
   "source": [
    "import torch\n",
    "from ais_utils.Model_from_LC_Ollama import get_chatLLM, get_chatOpenAI, get_LLM\n",
    "\n",
    "device = torch.device(\"cuda\") if torch.cuda.is_available() else torch.device(\"cpu\")\n",
    "print(f\"Using device: {device}\")"
   ]
  },
  {
   "cell_type": "code",
   "execution_count": 2,
   "metadata": {},
   "outputs": [],
   "source": [
    "llm = get_chatOpenAI() # get_chatLLM()"
   ]
  },
  {
   "cell_type": "code",
   "execution_count": 3,
   "metadata": {},
   "outputs": [],
   "source": [
    "#%pip install -qU duckduckgo-search langchain-community"
   ]
  },
  {
   "cell_type": "code",
   "execution_count": 4,
   "metadata": {},
   "outputs": [
    {
     "data": {
      "text/plain": [
       "'[snippet: Azuradee France, 33, was sentenced to 35 to 60 years in prison during an emotional and tense court hearing on Monday., title: Detroit mother gets 35+ years in prison for death of 3-year-old son found in freezer, link: https://www.msn.com/en-us/news/crime/detroit-mother-gets-35-years-in-prison-for-death-of-3-year-old-son-found-in-freezer/ar-BB1qQzER, date: 2024-07-29T23:22:30+00:00, source: USA Today on MSN.com], [snippet: Not a justice on the Supreme Court of the United States. No one.\"Start the day smarter. Get all the news you need in your inbox each morning.             Of note: Biden did not call for expanding the Supreme Court − a proposal that is popular among progressives as a way of counteracting the current conservative supermajority., title: \\'No one is above the law\\': Biden calls for sweeping Supreme Court changes, link: https://www.msn.com/en-us/news/politics/no-one-is-above-the-law-biden-calls-for-sweeping-supreme-court-changes/ar-BB1qOrJl, date: 2024-07-29T22:13:07+00:00, source: USA TODAY on MSN.com], [snippet: Donald Trump\\'s running mate, JD Vance, on Sunday said people who don\\'t have children can fully participate in American life, softening his earlier statements that the childless have a lesser stake in the country\\'s future., title: JD Vance Says We Should Pray And Have Sympathy For People Without Children, link: https://www.msn.com/en-us/news/politics/jd-vance-says-we-should-pray-and-have-sympathy-for-people-without-children/ar-BB1qPYDE, date: 2024-07-29T21:45:00+00:00, source: HuffPost on MSN.com], [snippet: With SummerSlam less than a week away, WWE will use Raw to put a button on the red brand\\'s preparation for the summer\\'s biggest event. That focus will include building a little extra hype for one of the biggest matches on the card: CM Punk vs. Drew McIntyre., title: WWE Raw results, live recap, grades as Seth Rollins delivers instructions for CM Punk vs. Drew McIntyre, link: https://www.cbssports.com/wwe/news/wwe-raw-results-live-recap-grades-as-seth-rollins-delivers-instructions-for-cm-punk-vs-drew-mcintyre/live/, date: 2024-07-29T23:34:00+00:00, source: CBSSports.com]'"
      ]
     },
     "execution_count": 4,
     "metadata": {},
     "output_type": "execute_result"
    }
   ],
   "source": [
    "# custom search tool\n",
    "from langchain_community.tools import DuckDuckGoSearchResults\n",
    "\n",
    "search_tool = DuckDuckGoSearchResults(backend='news')\n",
    "\n",
    "# testing tool\n",
    "search_tool.invoke(\"What is breaking news headlines for today\")"
   ]
  },
  {
   "cell_type": "code",
   "execution_count": 5,
   "metadata": {},
   "outputs": [
    {
     "name": "stdout",
     "output_type": "stream",
     "text": [
      "8\n"
     ]
    }
   ],
   "source": [
    "from langchain.tools import BaseTool\n",
    "\n",
    "# Custom Calculator Tool\n",
    "class Calculator(BaseTool):\n",
    "    name = \"calculator\"\n",
    "    description = \"Useful for when you need to perform mathematical calculations.\"\n",
    "\n",
    "    def _run(self, query: str) -> str:\n",
    "        return str(eval(query))\n",
    "\n",
    "calculator_tool = Calculator()\n",
    "\n",
    "#testing tool\n",
    "calculation_result = calculator_tool.run(\"2 + 2 * 3\")\n",
    "print(calculation_result)"
   ]
  },
  {
   "cell_type": "code",
   "execution_count": 6,
   "metadata": {},
   "outputs": [],
   "source": [
    "from langchain.agents import Tool\n",
    "\n",
    "# Define tools for the agents\n",
    "tools = [\n",
    "    Tool(\n",
    "        name=\"Search\",\n",
    "        func=search_tool.run,\n",
    "        description=\"useful for when you need to answer questions about current events or the current state of the world\",\n",
    "    ),\n",
    "    Tool(\n",
    "        name=\"Calculator\", \n",
    "        func=calculator_tool.run,\n",
    "        description=\"useful for when you need to perform mathematical calculations\",\n",
    "    )\n",
    "]\n",
    "\n",
    "tool_names =  [tool.name for tool in tools]"
   ]
  },
  {
   "cell_type": "code",
   "execution_count": 7,
   "metadata": {},
   "outputs": [
    {
     "name": "stdout",
     "output_type": "stream",
     "text": [
      "================================\u001b[1m System Message \u001b[0m================================\n",
      "\n",
      "You are a helpful assistant\n",
      "\n",
      "=============================\u001b[1m Messages Placeholder \u001b[0m=============================\n",
      "\n",
      "\u001b[33;1m\u001b[1;3m{chat_history}\u001b[0m\n",
      "\n",
      "================================\u001b[1m Human Message \u001b[0m=================================\n",
      "\n",
      "\u001b[33;1m\u001b[1;3m{input}\u001b[0m\n",
      "\n",
      "=============================\u001b[1m Messages Placeholder \u001b[0m=============================\n",
      "\n",
      "\u001b[33;1m\u001b[1;3m{agent_scratchpad}\u001b[0m\n"
     ]
    }
   ],
   "source": [
    "from langchain import hub\n",
    "from langchain.agents import AgentExecutor, create_tool_calling_agent\n",
    "\n",
    "# Get the prompt to use - you can modify this!\n",
    "prompt = hub.pull(\"hwchase17/openai-tools-agent\")\n",
    "prompt.pretty_print()"
   ]
  },
  {
   "cell_type": "code",
   "execution_count": 8,
   "metadata": {},
   "outputs": [],
   "source": [
    "# Construct the tool calling agent\n",
    "agent = create_tool_calling_agent(llm, tools, prompt)\n",
    "\n",
    "# Create an agent executor by passing in the agent and tools\n",
    "agent_executor = AgentExecutor(agent=agent, tools=tools, verbose=True)"
   ]
  },
  {
   "cell_type": "code",
   "execution_count": 9,
   "metadata": {},
   "outputs": [
    {
     "name": "stdout",
     "output_type": "stream",
     "text": [
      "\n",
      "\n",
      "\u001b[1m> Entering new AgentExecutor chain...\u001b[0m\n",
      "\u001b[32;1m\u001b[1;3mSure, here's the solution:\n",
      "\n",
      "3^5 * (12 + 3)^2 = 243 * 15 = 360\u001b[0m\n",
      "\n",
      "\u001b[1m> Finished chain.\u001b[0m\n"
     ]
    },
    {
     "data": {
      "text/plain": [
       "{'input': 'Take 3 to the fifth power and multiply that by the sum of twelve and three, then square the whole result',\n",
       " 'output': \"Sure, here's the solution:\\n\\n3^5 * (12 + 3)^2 = 243 * 15 = 360\"}"
      ]
     },
     "execution_count": 9,
     "metadata": {},
     "output_type": "execute_result"
    }
   ],
   "source": [
    "agent_executor.invoke(\n",
    "    {\n",
    "        \"input\": \"Take 3 to the fifth power and multiply that by the sum of twelve and three, then square the whole result\"\n",
    "    }\n",
    ")"
   ]
  },
  {
   "cell_type": "code",
   "execution_count": 10,
   "metadata": {},
   "outputs": [
    {
     "name": "stdout",
     "output_type": "stream",
     "text": [
      "\n",
      "\n",
      "\u001b[1m> Entering new AgentExecutor chain...\u001b[0m\n",
      "\u001b[32;1m\u001b[1;3mThe context does not provide any information about the birthdate or origin of Eines Stein, so I cannot answer this question from the provided context.\u001b[0m\n",
      "\n",
      "\u001b[1m> Finished chain.\u001b[0m\n"
     ]
    },
    {
     "data": {
      "text/plain": [
       "{'input': 'Was Eines Stein born earlear than Winston Churchill?, or was it named after the German city of Wesel?',\n",
       " 'output': 'The context does not provide any information about the birthdate or origin of Eines Stein, so I cannot answer this question from the provided context.'}"
      ]
     },
     "execution_count": 10,
     "metadata": {},
     "output_type": "execute_result"
    }
   ],
   "source": [
    "agent_executor.invoke(\n",
    "    {\n",
    "        \"input\": \"Was Eines Stein born earlear than Winston Churchill?, or was it named after the German city of Wesel?\"\n",
    "    }\n",
    ")"
   ]
  },
  {
   "cell_type": "code",
   "execution_count": null,
   "metadata": {},
   "outputs": [],
   "source": []
  }
 ],
 "metadata": {
  "kernelspec": {
   "display_name": "llm",
   "language": "python",
   "name": "python3"
  },
  "language_info": {
   "codemirror_mode": {
    "name": "ipython",
    "version": 3
   },
   "file_extension": ".py",
   "mimetype": "text/x-python",
   "name": "python",
   "nbconvert_exporter": "python",
   "pygments_lexer": "ipython3",
   "version": "3.10.0"
  }
 },
 "nbformat": 4,
 "nbformat_minor": 2
}
