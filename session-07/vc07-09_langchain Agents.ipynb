{
 "cells": [
  {
   "cell_type": "markdown",
   "metadata": {},
   "source": [
    "### LangChain Examples Notebook: Agents\n"
   ]
  },
  {
   "cell_type": "markdown",
   "metadata": {},
   "source": [
    "IMPORTS"
   ]
  },
  {
   "cell_type": "code",
   "execution_count": 1,
   "metadata": {},
   "outputs": [
    {
     "name": "stdout",
     "output_type": "stream",
     "text": [
      "Using device: cuda\n"
     ]
    }
   ],
   "source": [
    "import torch\n",
    "from ais_utils.Model_from_LC_Ollama import get_chatLLM, get_chatOpenAI, get_LLM\n",
    "\n",
    "device = torch.device(\"cuda\") if torch.cuda.is_available() else torch.device(\"cpu\")\n",
    "print(f\"Using device: {device}\")"
   ]
  },
  {
   "cell_type": "code",
   "execution_count": 10,
   "metadata": {},
   "outputs": [],
   "source": [
    "llm = get_chatOpenAI(\"llama3.2\") # get_chatLLM()"
   ]
  },
  {
   "cell_type": "code",
   "execution_count": 11,
   "metadata": {},
   "outputs": [],
   "source": [
    "#%pip install -qU duckduckgo-search langchain-community"
   ]
  },
  {
   "cell_type": "code",
   "execution_count": 12,
   "metadata": {},
   "outputs": [
    {
     "data": {
      "text/plain": [
       "\"snippet: The Trump administration is freezing $790 million in federal funding to Northwestern University and more than $1 billion in funding to Cornell University, a White House official told CNN., title: Trump administration freezes $1 billion in funding for Cornell University, $790 million for Northwestern University, link: https://www.msn.com/en-us/news/us/trump-administration-freezes-1-billion-in-funding-for-cornell-university-790-million-for-northwestern-university/ar-AA1Czpt9, date: 2025-04-09T04:54:10+00:00, source: CNN, snippet: A 15-year-old boy has been arrested for allegedly fatally stabbing his grandmother and injuring his mother in Selden, New York., title: 15-year-old arrested for fatally stabbing grandmother, injuring mother: Police, link: https://abcnews.go.com/US/15-year-arrested-fatally-stabbing-grandmother-injuring-mother/story?id=120600316, date: 2025-04-08T17:04:00+00:00, source: ABC News, snippet: Chief Justice John Roberts has issued a temporary administrative stay -- putting off a deadline for the government to return a mistakenly deported man to the U.S., title: Supreme Court delays midnight deadline for Trump admin to fix mistaken deportation, link: https://www.msn.com/en-us/news/politics/supreme-court-delays-midnight-deadline-for-trump-admin-to-fix-mistaken-deportation/ar-AA1CsOgG, date: 2025-04-08T15:31:11+00:00, source: ABC News, snippet: Oded Lifshitz, an 83-year-old great-grandfather, returned to Israel in a coffin more than 500 days after he was taken from his home. Now, his family is fighting for the remaining hostages., title: Slain Hamas hostage's family fights for the release of those still in Gaza, link: https://www.msn.com/en-us/news/world/slain-hamas-hostages-family-fights-for-the-release-of-those-still-in-gaza/ar-AA1Cyods, date: 2025-04-08T23:37:09+00:00, source: Fox News\""
      ]
     },
     "execution_count": 12,
     "metadata": {},
     "output_type": "execute_result"
    }
   ],
   "source": [
    "# custom search tool\n",
    "from langchain_community.tools import DuckDuckGoSearchResults\n",
    "\n",
    "search_tool = DuckDuckGoSearchResults(backend='news')\n",
    "\n",
    "# testing tool\n",
    "search_tool.invoke(\"What is breaking news headlines for today\")"
   ]
  },
  {
   "cell_type": "code",
   "execution_count": 13,
   "metadata": {},
   "outputs": [],
   "source": [
    "from langchain.tools import tool\n",
    "\n",
    "@tool\n",
    "def calculator(query: str) -> str:\n",
    "    \"\"\"Performs basic math calculations.\"\"\"\n",
    "    try:\n",
    "        result = eval(query)\n",
    "        return str(result)\n",
    "    except Exception as e:\n",
    "        return f\"Error: {e}\"\n"
   ]
  },
  {
   "cell_type": "code",
   "execution_count": 14,
   "metadata": {},
   "outputs": [],
   "source": [
    "from langchain.agents import Tool\n",
    "\n",
    "# Define tools for the agents\n",
    "tools = [\n",
    "    Tool(\n",
    "        name=\"Search\",\n",
    "        func=search_tool.run,\n",
    "        description=\"useful for when you need to answer questions about current events or the current state of the world\",\n",
    "    ),\n",
    "    Tool(\n",
    "        name=\"Calculator\", \n",
    "        func=calculator,\n",
    "        description=\"useful for when you need to perform mathematical calculations\",\n",
    "    )\n",
    "]\n",
    "\n",
    "tool_names =  [tool.name for tool in tools]"
   ]
  },
  {
   "cell_type": "code",
   "execution_count": 15,
   "metadata": {},
   "outputs": [
    {
     "name": "stderr",
     "output_type": "stream",
     "text": [
      "/home/tjamil/Desktop/CLASS/AIS-NLP10S/session-07/.conda/lib/python3.11/site-packages/langsmith/client.py:278: LangSmithMissingAPIKeyWarning: API key must be provided when using hosted LangSmith API\n",
      "  warnings.warn(\n"
     ]
    },
    {
     "name": "stdout",
     "output_type": "stream",
     "text": [
      "================================\u001b[1m System Message \u001b[0m================================\n",
      "\n",
      "You are a helpful assistant\n",
      "\n",
      "=============================\u001b[1m Messages Placeholder \u001b[0m=============================\n",
      "\n",
      "\u001b[33;1m\u001b[1;3m{chat_history}\u001b[0m\n",
      "\n",
      "================================\u001b[1m Human Message \u001b[0m=================================\n",
      "\n",
      "\u001b[33;1m\u001b[1;3m{input}\u001b[0m\n",
      "\n",
      "=============================\u001b[1m Messages Placeholder \u001b[0m=============================\n",
      "\n",
      "\u001b[33;1m\u001b[1;3m{agent_scratchpad}\u001b[0m\n"
     ]
    }
   ],
   "source": [
    "from langchain import hub\n",
    "from langchain.agents import AgentExecutor, create_tool_calling_agent\n",
    "\n",
    "# Get the prompt to use - you can modify this!\n",
    "prompt = hub.pull(\"hwchase17/openai-tools-agent\")\n",
    "prompt.pretty_print()"
   ]
  },
  {
   "cell_type": "code",
   "execution_count": 16,
   "metadata": {},
   "outputs": [],
   "source": [
    "# Construct the tool calling agent\n",
    "agent = create_tool_calling_agent(llm, tools, prompt)\n",
    "\n",
    "# Create an agent executor by passing in the agent and tools\n",
    "agent_executor = AgentExecutor(agent=agent, tools=tools, verbose=True)"
   ]
  },
  {
   "cell_type": "code",
   "execution_count": 17,
   "metadata": {},
   "outputs": [
    {
     "name": "stdout",
     "output_type": "stream",
     "text": [
      "\n",
      "\n",
      "\u001b[1m> Entering new AgentExecutor chain...\u001b[0m\n",
      "\u001b[32;1m\u001b[1;3m\n",
      "Invoking: `Calculator` with `(3 ** 5) * (12 + 3) ** 2`\n",
      "\n",
      "\n",
      "\u001b[0m\u001b[33;1m\u001b[1;3m54675\u001b[0m\u001b[32;1m\u001b[1;3mTo calculate this, we need to follow the order of operations (PEMDAS):\n",
      "\n",
      "1. Calculate 3 to the fifth power: 3^5 = 243\n",
      "2. Add 12 and 3: 12 + 3 = 15\n",
      "3. Multiply 243 by 15: 243 * 15 = 3645\n",
      "4. Square the result: 3645 ^ 2 = 13,280,625\n",
      "\n",
      "So the final answer is 13,280,625.\u001b[0m\n",
      "\n",
      "\u001b[1m> Finished chain.\u001b[0m\n"
     ]
    },
    {
     "data": {
      "text/plain": [
       "{'input': 'Take 3 to the fifth power and multiply that by the sum of twelve and three, then square the whole result',\n",
       " 'output': 'To calculate this, we need to follow the order of operations (PEMDAS):\\n\\n1. Calculate 3 to the fifth power: 3^5 = 243\\n2. Add 12 and 3: 12 + 3 = 15\\n3. Multiply 243 by 15: 243 * 15 = 3645\\n4. Square the result: 3645 ^ 2 = 13,280,625\\n\\nSo the final answer is 13,280,625.'}"
      ]
     },
     "execution_count": 17,
     "metadata": {},
     "output_type": "execute_result"
    }
   ],
   "source": [
    "agent_executor.invoke(\n",
    "    {\n",
    "        \"input\": \"Take 3 to the fifth power and multiply that by the sum of twelve and three, then square the whole result\"\n",
    "    }\n",
    ")"
   ]
  },
  {
   "cell_type": "code",
   "execution_count": 18,
   "metadata": {},
   "outputs": [
    {
     "name": "stdout",
     "output_type": "stream",
     "text": [
      "\n",
      "\n",
      "\u001b[1m> Entering new AgentExecutor chain...\u001b[0m\n",
      "\u001b[32;1m\u001b[1;3m\n",
      "Invoking: `Search` with `Eines Stein vs Winston Churchill`\n",
      "\n",
      "\n",
      "\u001b[0m\u001b[36;1m\u001b[1;3m\u001b[0m\u001b[32;1m\u001b[1;3mEines Stein, a German footballer, was born on January 17, 1984. \n",
      "\n",
      "Winston Churchill, the former Prime Minister of the United Kingdom, was born on November 30, 1874.\n",
      "\n",
      "Therefore, Eines Stein was not born earlier than Winston Churchill.\u001b[0m\n",
      "\n",
      "\u001b[1m> Finished chain.\u001b[0m\n"
     ]
    },
    {
     "data": {
      "text/plain": [
       "{'input': 'Was Eines Stein born earlear than Winston Churchill?, or was it named after the German city of Wesel?',\n",
       " 'output': 'Eines Stein, a German footballer, was born on January 17, 1984. \\n\\nWinston Churchill, the former Prime Minister of the United Kingdom, was born on November 30, 1874.\\n\\nTherefore, Eines Stein was not born earlier than Winston Churchill.'}"
      ]
     },
     "execution_count": 18,
     "metadata": {},
     "output_type": "execute_result"
    }
   ],
   "source": [
    "agent_executor.invoke(\n",
    "    {\n",
    "        \"input\": \"Was Eines Stein born earlear than Winston Churchill?, or was it named after the German city of Wesel?\"\n",
    "    }\n",
    ")"
   ]
  }
 ],
 "metadata": {
  "kernelspec": {
   "display_name": "Python 3",
   "language": "python",
   "name": "python3"
  },
  "language_info": {
   "codemirror_mode": {
    "name": "ipython",
    "version": 3
   },
   "file_extension": ".py",
   "mimetype": "text/x-python",
   "name": "python",
   "nbconvert_exporter": "python",
   "pygments_lexer": "ipython3",
   "version": "3.11.11"
  }
 },
 "nbformat": 4,
 "nbformat_minor": 2
}
