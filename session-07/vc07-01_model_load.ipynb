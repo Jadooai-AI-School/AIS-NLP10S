{
 "cells": [
  {
   "cell_type": "markdown",
   "metadata": {},
   "source": [
    "### IMPORTANT"
   ]
  },
  {
   "cell_type": "markdown",
   "metadata": {},
   "source": [
    "#### 1. The purpose of these excercies is not to to teach Langchain or Ollama etc.\n",
    "#### 2. The aim is to famaliarize you with a popular framewrok for llm application orchestration.\n",
    "#### 3. Also, we will see how open-source LLMs are called and used for various tasks.   "
   ]
  },
  {
   "cell_type": "markdown",
   "metadata": {},
   "source": [
    "========================================================================================="
   ]
  },
  {
   "cell_type": "markdown",
   "metadata": {},
   "source": [
    "IMPORTS"
   ]
  },
  {
   "cell_type": "code",
   "execution_count": 1,
   "metadata": {},
   "outputs": [],
   "source": [
    "from ais_utils.Model_from_LC_Ollama import get_LLM, get_chatLLM, preload_model, get_chatOpenAI"
   ]
  },
  {
   "cell_type": "markdown",
   "metadata": {},
   "source": [
    "Preloading model for faster inference"
   ]
  },
  {
   "cell_type": "code",
   "execution_count": 2,
   "metadata": {},
   "outputs": [
    {
     "name": "stdout",
     "output_type": "stream",
     "text": [
      "Running model preloader for gemma2:2b...\n"
     ]
    },
    {
     "data": {
      "text/plain": [
       "True"
      ]
     },
     "execution_count": 2,
     "metadata": {},
     "output_type": "execute_result"
    }
   ],
   "source": [
    "preload_model()"
   ]
  },
  {
   "cell_type": "markdown",
   "metadata": {},
   "source": [
    "CHECKING IF GPU IS ENABLED"
   ]
  },
  {
   "cell_type": "code",
   "execution_count": 3,
   "metadata": {},
   "outputs": [],
   "source": [
    "#import torch\n",
    "#device = torch.device(\"cuda\") if torch.cuda.is_available() else torch.device(\"cpu\")\n",
    "#print(f\"Using device: {device}\")"
   ]
  },
  {
   "cell_type": "markdown",
   "metadata": {},
   "source": [
    "#### Getting Inference using Langchain LLM \n",
    "(String input, string output)"
   ]
  },
  {
   "cell_type": "code",
   "execution_count": 4,
   "metadata": {},
   "outputs": [
    {
     "name": "stdout",
     "output_type": "stream",
     "text": [
      "## William Shakespeare: A Brief Overview\n",
      "\n",
      "* **English playwright, poet, and actor:**  He wrote plays and poems that continue to be performed and studied worldwide.\n",
      "* **Born in Stratford-upon-Avon, England:** He lived a relatively ordinary life until his death in 1616.\n",
      "* **Active during the Elizabethan era:** His works were performed at the Globe Theatre and other venues.\n",
      "* **Master of language and storytelling:**  He used rich vocabulary, complex plots, and memorable characters to create enduring plays.\n",
      "* **Famous for iconic plays:**  His most famous works include *Hamlet*, *Romeo and Juliet*, *Macbeth*, *King Lear*, and *A Midsummer Night's Dream*. \n",
      "* **Influential figure in literature and theatre:** His work continues to inspire artists, writers, and audiences today.\n",
      "* **Legacy of innovation and enduring relevance:**  Shakespeare's plays explore universal themes of love, loss, ambition, and human nature, making them timeless classics. \n",
      "\n",
      "\n",
      "Let me know if you want more details about a specific aspect of Shakespeare or his works! \n",
      "\n"
     ]
    }
   ],
   "source": [
    "llm = get_LLM()\n",
    "\n",
    "resp = llm.invoke('Who is Shakespeare?. Describe briefly in the format of bullet points')\n",
    "print(resp)"
   ]
  },
  {
   "cell_type": "markdown",
   "metadata": {},
   "source": [
    "#### Getting Inference using Langchain ChatLLM interface\n",
    "Input can be string, or prompt dictionary - Output is dictionary (need .content to see plain response)"
   ]
  },
  {
   "cell_type": "code",
   "execution_count": 8,
   "metadata": {},
   "outputs": [
    {
     "name": "stdout",
     "output_type": "stream",
     "text": [
      "## William Shakespeare: A Brief Overview\n",
      "\n",
      "* **English playwright, poet, and actor:**  He's considered one of the greatest writers in English literature.\n",
      "* **Born in Stratford-upon-Avon, England:** His life and works are deeply rooted in his time and place.\n",
      "* **Active during the Elizabethan era (1564-1613):** He wrote plays during this period of great cultural change and artistic flourishing.\n",
      "* **Wrote over 30 plays:**  His most famous include \"Hamlet,\" \"Romeo and Juliet,\" \"Macbeth,\" and \"A Midsummer Night's Dream.\"\n",
      "* **Master of language and storytelling:** His works are filled with memorable characters, complex plots, and poetic language.\n",
      "* **Influential on literature and theatre:** Shakespeare's work continues to be studied, performed, and adapted around the world. \n",
      "* **His legacy lives on:**  He's a cultural icon whose impact on language, storytelling, and art is immeasurable. \n",
      "\n",
      "\n",
      "Let me know if you want to delve deeper into any specific aspect of his life or works! \n",
      "\n"
     ]
    }
   ],
   "source": [
    "chatllm = get_chatLLM()\n",
    "\n",
    "resp = chatllm.invoke('Who is Shakespeare?. Describe briefly in the format of bullet points').content\n",
    "print(resp)"
   ]
  },
  {
   "cell_type": "markdown",
   "metadata": {},
   "source": [
    "#### get_chatOpenAI works in compatibility mode for OpenAI Chat Model.\n",
    "(input may be string or prompt dictionary, and output is dictionary. Need .content key to get plain output)"
   ]
  },
  {
   "cell_type": "code",
   "execution_count": 6,
   "metadata": {},
   "outputs": [
    {
     "name": "stdout",
     "output_type": "stream",
     "text": [
      "## William Shakespeare: A Brief Overview\n",
      "\n",
      "* **English playwright, poet, and actor:**  He's considered one of the greatest writers in English literature. \n",
      "* **Active during the Elizabethan era (1564-1613):** He lived and worked in London during a time of great cultural and political change.\n",
      "* **Wrote plays for the Globe Theatre:** His works were performed at this famous theatre, which was built specifically for his productions. \n",
      "* **Famous for his tragedies:**  Plays like *Hamlet*, *Romeo and Juliet*, *Macbeth*, and *Othello* are considered cornerstones of Western literature.\n",
      "* **Masterful use of language:** He employed a unique style of writing that is both poetic and dramatic, using rich vocabulary and complex metaphors. \n",
      "* **Enduring legacy:**  His works continue to be performed and studied around the world today. \n",
      "\n",
      "\n",
      "Let me know if you'd like more details about any specific aspect of Shakespeare! \n",
      "\n"
     ]
    }
   ],
   "source": [
    "openai_llm = get_chatOpenAI()\n",
    "\n",
    "resp = openai_llm.invoke('Who is Shakespeare?. Describe briefly in the format of bullet points').content\n",
    "\n",
    "print(resp)"
   ]
  }
 ],
 "metadata": {
  "kernelspec": {
   "display_name": "Python 3",
   "language": "python",
   "name": "python3"
  },
  "language_info": {
   "codemirror_mode": {
    "name": "ipython",
    "version": 3
   },
   "file_extension": ".py",
   "mimetype": "text/x-python",
   "name": "python",
   "nbconvert_exporter": "python",
   "pygments_lexer": "ipython3",
   "version": "3.11.11"
  }
 },
 "nbformat": 4,
 "nbformat_minor": 2
}
