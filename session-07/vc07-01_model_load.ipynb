{
 "cells": [
  {
   "cell_type": "markdown",
   "metadata": {},
   "source": [
    "### IMPORTANT"
   ]
  },
  {
   "cell_type": "markdown",
   "metadata": {},
   "source": [
    "#### 1. The purpose of these excercies is not to to teach Langchain or Ollama etc.\n",
    "#### 2. The aim is to famaliarize you with a popular framewrok for llm application orchestration.\n",
    "#### 3. Also, we will see how open-source LLMs are called and used for various tasks.   "
   ]
  },
  {
   "cell_type": "markdown",
   "metadata": {},
   "source": [
    "========================================================================================="
   ]
  },
  {
   "cell_type": "markdown",
   "metadata": {},
   "source": [
    "IMPORTS"
   ]
  },
  {
   "cell_type": "code",
   "execution_count": 1,
   "metadata": {},
   "outputs": [],
   "source": [
    "from ais_utils.Model_from_LC_Ollama import get_LLM, get_chatLLM, preload_model, get_chatOpenAI"
   ]
  },
  {
   "cell_type": "markdown",
   "metadata": {},
   "source": [
    "Preloading model for faster inference"
   ]
  },
  {
   "cell_type": "code",
   "execution_count": 2,
   "metadata": {},
   "outputs": [
    {
     "name": "stdout",
     "output_type": "stream",
     "text": [
      "Running model preloader for gemma2:2b...\n"
     ]
    },
    {
     "data": {
      "text/plain": [
       "True"
      ]
     },
     "execution_count": 2,
     "metadata": {},
     "output_type": "execute_result"
    }
   ],
   "source": [
    "preload_model()"
   ]
  },
  {
   "cell_type": "markdown",
   "metadata": {},
   "source": [
    "CHECKING IF GPU IS ENABLED"
   ]
  },
  {
   "cell_type": "code",
   "execution_count": 3,
   "metadata": {},
   "outputs": [],
   "source": [
    "#import torch\n",
    "#device = torch.device(\"cuda\") if torch.cuda.is_available() else torch.device(\"cpu\")\n",
    "#print(f\"Using device: {device}\")"
   ]
  },
  {
   "cell_type": "markdown",
   "metadata": {},
   "source": [
    "#### Getting Inference using Langchain LLM \n",
    "(String input, string output)"
   ]
  },
  {
   "cell_type": "code",
   "execution_count": 4,
   "metadata": {},
   "outputs": [
    {
     "name": "stdout",
     "output_type": "stream",
     "text": [
      "## William Shakespeare: A Brief Overview\n",
      "\n",
      "* **English playwright, poet, and actor:**  He was a prolific writer who shaped English literature.\n",
      "* **Born in Stratford-upon-Avon, England:** His life and works are deeply rooted in his time and place.\n",
      "* **Active during the Elizabethan era (1564-1613):** He wrote plays during this period of flourishing theatre and cultural change. \n",
      "* **Master of language and storytelling:**  His works are known for their complex characters, intricate plots, and poetic language.\n",
      "* **Famous for his tragedies, comedies, and histories:**  He created iconic characters like Hamlet, Romeo & Juliet, Macbeth, and King Lear.\n",
      "* **Legacy that continues to influence:** Shakespeare's plays remain popular today, inspiring countless adaptations and interpretations. \n",
      "\n",
      "\n",
      "Let me know if you'd like a deeper dive into any specific aspect of his life or work! \n",
      "\n"
     ]
    }
   ],
   "source": [
    "llm = get_LLM()\n",
    "\n",
    "resp = llm.invoke('Who is Shakespeare?. Describe briefly in the format of bullet points')\n",
    "print(resp)"
   ]
  },
  {
   "cell_type": "markdown",
   "metadata": {},
   "source": [
    "#### Getting Inference using Langchain ChatLLM interface\n",
    "Input can be string, or prompt dictionary - Output is dictionary (need .content to see plain response)"
   ]
  },
  {
   "cell_type": "code",
   "execution_count": 5,
   "metadata": {},
   "outputs": [
    {
     "name": "stdout",
     "output_type": "stream",
     "text": [
      "## William Shakespeare: A Brief Overview\n",
      "\n",
      "* **English playwright, poet, and actor:**  He's considered one of the greatest writers in the English language.\n",
      "* **Born in Stratford-upon-Avon, England:** His life and works are deeply rooted in his time and place. \n",
      "* **Active during the Elizabethan era (1564-1613):** He wrote plays during this period of great cultural and political change.\n",
      "* **Master of language and storytelling:**  His plays are known for their complex characters, intricate plots, and poetic language.\n",
      "* **Famous works include:** \n",
      "    * Hamlet\n",
      "    * Romeo and Juliet\n",
      "    * Macbeth\n",
      "    * A Midsummer Night's Dream\n",
      "    * King Lear\n",
      "* **Legacy:** Shakespeare's work continues to be performed and studied worldwide, influencing literature, theatre, and culture for centuries. \n",
      "\n",
      "\n",
      "Let me know if you want more details about any specific aspect of his life or works! \n",
      "\n"
     ]
    }
   ],
   "source": [
    "chatllm = get_chatLLM()\n",
    "\n",
    "resp = chatllm.invoke('Who is Shakespeare?. Describe briefly in the format of bullet points').content\n",
    "print(resp)"
   ]
  },
  {
   "cell_type": "markdown",
   "metadata": {},
   "source": [
    "#### get_chatOpenAI works in compatibility mode for OpenAI Chat Model.\n",
    "(input may be string or prompt dictionary, and output is dictionary. Need .content key to get plain output)"
   ]
  },
  {
   "cell_type": "code",
   "execution_count": 6,
   "metadata": {},
   "outputs": [
    {
     "name": "stdout",
     "output_type": "stream",
     "text": [
      "Here's a brief description of William Shakespeare, the Bard:\n",
      "\n",
      "* **English playwright and poet:**  He wrote plays and poems that are still performed and studied today. \n",
      "* **Most famous for his plays:**  His works include comedies like \"A Midsummer Night's Dream,\" tragedies like \"Hamlet\" and \"Romeo and Juliet,\" and histories like \"Richard III.\"\n",
      "* **Wrote in the Elizabethan era:**  He lived from 1564 to 1616, during a time of great cultural and artistic flourishing in England.\n",
      "* **Highly influential:**  His works have been adapted countless times and continue to inspire artists and audiences worldwide.\n",
      "* **Mysterious life:**  While we know he was born in Stratford-upon-Avon, his personal life remains somewhat shrouded in mystery. \n",
      "\n",
      "Let me know if you'd like more details about Shakespeare or any specific play! \n",
      "\n"
     ]
    }
   ],
   "source": [
    "openai_llm = get_chatOpenAI()\n",
    "\n",
    "resp = openai_llm.invoke('Who is Shakespeare?. Describe briefly in the format of bullet points').content\n",
    "\n",
    "print(resp)"
   ]
  }
 ],
 "metadata": {
  "kernelspec": {
   "display_name": ".venv",
   "language": "python",
   "name": "python3"
  },
  "language_info": {
   "codemirror_mode": {
    "name": "ipython",
    "version": 3
   },
   "file_extension": ".py",
   "mimetype": "text/x-python",
   "name": "python",
   "nbconvert_exporter": "python",
   "pygments_lexer": "ipython3",
   "version": "3.12.9"
  }
 },
 "nbformat": 4,
 "nbformat_minor": 2
}
