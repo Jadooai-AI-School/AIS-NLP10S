{
 "cells": [
  {
   "cell_type": "markdown",
   "metadata": {},
   "source": [
    "IMPORTS"
   ]
  },
  {
   "cell_type": "code",
   "execution_count": 1,
   "metadata": {},
   "outputs": [],
   "source": [
    "import torch\n",
    "from ais_utils.Model_from_LC_Ollama import get_LLM, get_chatLLM, preload_model, get_chatOpenAI"
   ]
  },
  {
   "cell_type": "markdown",
   "metadata": {},
   "source": [
    "Preloading model for faster inference"
   ]
  },
  {
   "cell_type": "code",
   "execution_count": 2,
   "metadata": {},
   "outputs": [
    {
     "name": "stdout",
     "output_type": "stream",
     "text": [
      "Running model preloader for gemma:2b...\n"
     ]
    },
    {
     "data": {
      "text/plain": [
       "True"
      ]
     },
     "execution_count": 2,
     "metadata": {},
     "output_type": "execute_result"
    }
   ],
   "source": [
    "preload_model()"
   ]
  },
  {
   "cell_type": "markdown",
   "metadata": {},
   "source": [
    "CHECKING IF GPU IS ENABLED"
   ]
  },
  {
   "cell_type": "code",
   "execution_count": 3,
   "metadata": {},
   "outputs": [
    {
     "name": "stdout",
     "output_type": "stream",
     "text": [
      "Using device: cuda\n"
     ]
    }
   ],
   "source": [
    "device = torch.device(\"cuda\") if torch.cuda.is_available() else torch.device(\"cpu\")\n",
    "print(f\"Using device: {device}\")"
   ]
  },
  {
   "cell_type": "markdown",
   "metadata": {},
   "source": [
    "#### Getting Inference using Langchain LLM \n",
    "(String input, string output)"
   ]
  },
  {
   "cell_type": "code",
   "execution_count": 4,
   "metadata": {},
   "outputs": [
    {
     "name": "stdout",
     "output_type": "stream",
     "text": [
      "Sure. Here's a brief summary of Shakespeare:\n",
      "\n",
      "- **Born:** 1564 in Stratford-upon-Avon, England\n",
      "- **Died:** 1616 in London, England\n",
      "- **Occupation:** Playwright, poet, and statesman\n",
      "- **Major works:** Hamlet, Romeo and Juliet, Macbeth, King Lear, Othello, and many others\n",
      "- **Key contributions:** Shakespeare is considered one of the greatest playwrights in English, and his works have had a profound impact on Western culture.\n",
      "- **Legacy:** Shakespeare's plays continue to be performed and studied around the world, and his influence can be seen in countless other works of art.\n"
     ]
    }
   ],
   "source": [
    "llm = get_LLM()\n",
    "\n",
    "resp = llm.invoke('Who is Shakespeare?. Describe briefly in the format of bullet points')\n",
    "print(resp)"
   ]
  },
  {
   "cell_type": "markdown",
   "metadata": {},
   "source": [
    "#### Getting Inference using Langchain ChatLLM interface\n",
    "Input can be string, or prompt dictionary - Output is dictionary (need .content to see plain response)"
   ]
  },
  {
   "cell_type": "code",
   "execution_count": 5,
   "metadata": {},
   "outputs": [
    {
     "name": "stdout",
     "output_type": "stream",
     "text": [
      "Sure. Here's a brief summary of Shakespeare:\n",
      "\n",
      "- **Born:** 1564 in Stratford-upon-Avon, England\n",
      "- **Died:** 1616 in London, England\n",
      "- **Occupation:** Playwright, poet, and scholar\n",
      "- **Major works:** Hamlet, Romeo and Juliet, Macbeth, King Lear, Othello, and many others\n",
      "- **Key contributions:** Shakespeare is considered one of the greatest playwrights in English, and his works have had a profound impact on Western culture.\n",
      "- **Legacy:** Shakespeare's plays and poems continue to be performed and studied worldwide, and his influence can be seen in countless other works of art.\n"
     ]
    }
   ],
   "source": [
    "chatllm = get_chatLLM()\n",
    "\n",
    "resp = chatllm.invoke('Who is Shakespeare?. Describe briefly in the format of bullet points').content\n",
    "print(resp)"
   ]
  },
  {
   "cell_type": "markdown",
   "metadata": {},
   "source": [
    "#### get_chatOpenAI works in compatibility mode for OpenAI Chat Model.\n",
    "(input may be string or prompt dictionary, and output is dictionary. Need .content key to get plain output)"
   ]
  },
  {
   "cell_type": "code",
   "execution_count": 6,
   "metadata": {},
   "outputs": [
    {
     "name": "stdout",
     "output_type": "stream",
     "text": [
      "Sure. Here's a brief summary of Shakespeare:\n",
      "\n",
      "* **Born:** 1564 in Stratford-upon-Avon, England\n",
      "* **Died:** 1616 in London, England\n",
      "* **Occupation:** Playwright, poet, and statesman\n",
      "* **Major works:** \"Hamlet,\" \"Romeo and Juliet,\" \"King Lear,\" \"Macbeth,\" and many others\n",
      "* **Key contributions:**\n",
      "    * Shakespeare was one of the greatest playwrights in English history.\n",
      "    * His plays explored human nature, love, and relationships.\n",
      "    * He was a gifted poet who wrote beautiful and moving lyrics.\n",
      "    * Shakespeare was also a skilled politician and statesman.\n",
      "    * His work continues to be performed and studied worldwide.\n"
     ]
    }
   ],
   "source": [
    "openai_llm = get_chatOpenAI()\n",
    "\n",
    "resp = openai_llm.invoke('Who is Shakespeare?. Describe briefly in the format of bullet points').content\n",
    "\n",
    "print(resp)"
   ]
  },
  {
   "cell_type": "code",
   "execution_count": null,
   "metadata": {},
   "outputs": [],
   "source": []
  }
 ],
 "metadata": {
  "kernelspec": {
   "display_name": "llm",
   "language": "python",
   "name": "python3"
  },
  "language_info": {
   "codemirror_mode": {
    "name": "ipython",
    "version": 3
   },
   "file_extension": ".py",
   "mimetype": "text/x-python",
   "name": "python",
   "nbconvert_exporter": "python",
   "pygments_lexer": "ipython3",
   "version": "3.10.0"
  }
 },
 "nbformat": 4,
 "nbformat_minor": 2
}
